{
  "nbformat": 4,
  "nbformat_minor": 0,
  "metadata": {
    "colab": {
      "name": "Chatbot.ipynb",
      "provenance": [],
      "include_colab_link": true
    },
    "kernelspec": {
      "name": "python3",
      "display_name": "Python 3"
    }
  },
  "cells": [
    {
      "cell_type": "markdown",
      "metadata": {
        "id": "view-in-github",
        "colab_type": "text"
      },
      "source": [
        "<a href=\"https://colab.research.google.com/github/corentinBlanchard/chatbot-IA/blob/main/Chatbot.ipynb\" target=\"_parent\"><img src=\"https://colab.research.google.com/assets/colab-badge.svg\" alt=\"Open In Colab\"/></a>"
      ]
    },
    {
      "cell_type": "code",
      "metadata": {
        "id": "3M7SLJGFYcff"
      },
      "source": [
        "#Imports pour recuperation de fichiers a partir de google drive ( ou la DB est stockee)\n",
        "!pip install -U -q PyDrive\n",
        "from pydrive.auth import GoogleAuth\n",
        "from pydrive.drive import GoogleDrive\n",
        "from google.colab import auth\n",
        "from oauth2client.client import GoogleCredentials"
      ],
      "execution_count": 13,
      "outputs": []
    },
    {
      "cell_type": "code",
      "metadata": {
        "id": "o-RrjpYbheb4"
      },
      "source": [
        "auth.authenticate_user()\n",
        "gauth = GoogleAuth()\n",
        "gauth.credentials = GoogleCredentials.get_application_default()\n",
        "drive = GoogleDrive(gauth)"
      ],
      "execution_count": 15,
      "outputs": []
    },
    {
      "cell_type": "code",
      "metadata": {
        "id": "dzEbTqoyhplz"
      },
      "source": [
        "#Importation des donnees sur la conversation concernant l'IA\n",
        "ia_db = drive.CreateFile({'id':'1asz0LQpmjqAfx7_rc6WxkOeYOS848F2S'})\n",
        "ia_db.GetContentFile('ia.yml') \n",
        "\n",
        "botprofile_db = drive.CreateFile({'id':'1Uuz-UJTelqUrndGa1xFoB9YUbgZckzb-'})\n",
        "botprofile_db.GetContentFile('botprofile.yml') \n",
        "\n",
        "computers_db = drive.CreateFile({'id':'13CsF8ldiPjjwLlp317rnXFy3xs6DX8Bd'})\n",
        "computers_db.GetContentFile('computers.yml')\n",
        "\n",
        "emotion_db = drive.CreateFile({'id':'1zz3HfhaQvnzTmGRk4Ax7L61RNIutnBjS'})\n",
        "emotion_db.GetContentFile('emotion.yml')\n",
        "\n",
        "food_db = drive.CreateFile({'id':'10cTQChOe9zzsGBJyYiCAp-KBk2rYCkTE'})\n",
        "food_db.GetContentFile('food.yml')\n",
        "\n",
        "gossip_db =  drive.CreateFile({'id':'1Rt5to2LxH69v_qcDiYAJsVWjhn_E1c1A'})\n",
        "gossip_db.GetContentFile('gossip.yml')\n",
        "\n",
        "greetings_db =  drive.CreateFile({'id':'1rE2IBzv8JWA-GwAiEaYKUArP13DFyvcK'})\n",
        "greetings_db.GetContentFile('greetings.yml')\n",
        "\n",
        "health_db =  drive.CreateFile({'id':'1Gkg_LJBiRUk10-b9a5npJtMn6UNuEY6g'})\n",
        "health_db.GetContentFile('health.yml')\n",
        "\n",
        "history_db =  drive.CreateFile({'id':'1bKsUE4iGVqwADmqIHwPX3u3rogXs7dcD'})\n",
        "history_db.GetContentFile('history.yml')\n",
        "\n",
        "humor_db =  drive.CreateFile({'id':'1RUcaerZy4Se2zy9guQgAAVA_0N35pO8b'})\n",
        "humor_db.GetContentFile('humor.yml')\n",
        "\n",
        "literature_db =drive.CreateFile({'id':'1TdGULLQEXpiQvFwmB00V21qhfE9LGnq7'})\n",
        "literature_db.GetContentFile('literature.yml')\n",
        "\n",
        "money_db =drive.CreateFile({'id':'1mW98HXxply4YH8wha9BZg1tr09hrlX3W'})\n",
        "money_db.GetContentFile('money.yml')\n",
        "\n",
        "movies_db =drive.CreateFile({'id':'1V3WOQDZmUnFN-ZhG9nXYq4g3LhGMmjck'})\n",
        "movies_db.GetContentFile('movies.yml')\n",
        "\n",
        "politics_db =drive.CreateFile({'id':'1IgVS9x_7r4btfW_LyDg-py7sucRFduKp'})\n",
        "politics_db.GetContentFile('politics.yml')\n",
        "\n",
        "psychology_db =drive.CreateFile({'id':'1RApXTqebauwsMVqOCzC5aO_nB4nsg0NW'})\n",
        "psychology_db.GetContentFile('psychology.yml')\n",
        "\n",
        "science_db =drive.CreateFile({'id':'1AtIFu5F30pxNO-WzOnLNK7aKU7B4lgdM'})\n",
        "science_db.GetContentFile('science.yml')\n",
        "\n",
        "sports_db =drive.CreateFile({'id':'1OsBjPRq9VOCuVl-XSJIp0rTSC0zeJZv-'})\n",
        "sports_db.GetContentFile('sports.yml')\n",
        "\n",
        "trivia_db =drive.CreateFile({'id':'1vTwCh5WJNjEKnFGqRZfsRx7QhzXbkMcJ'})\n",
        "trivia_db.GetContentFile('trivia.yml')\n"
      ],
      "execution_count": 53,
      "outputs": []
    },
    {
      "cell_type": "code",
      "metadata": {
        "colab": {
          "base_uri": "https://localhost:8080/"
        },
        "id": "yBEDqOtCiVta",
        "outputId": "ff28ce41-9036-4188-b20a-ac70fc0ae619"
      },
      "source": [
        "import yaml\n",
        "doc_list = []\n",
        "file = open('ia.yml')\n",
        "docs = yaml.safe_load(file)\n",
        "print(docs['conversations'][0])\n",
        "doc_list.append(docs)\n",
        "\n",
        "file = open('botprofile.yml')\n",
        "docs = yaml.safe_load(file)\n",
        "doc_list.append(docs)\n",
        "print(docs['conversations'][0])\n",
        "\n",
        "file = open('computers.yml')\n",
        "docs = yaml.safe_load(file)\n",
        "#doc_list.append(docs)\n",
        "print(docs['conversations'][0])\n",
        "\n",
        "file = open('emotion.yml')\n",
        "docs = yaml.safe_load(file)\n",
        "#doc_list.append(docs)\n",
        "print(docs['conversations'][0])\n",
        "\n",
        "file = open('food.yml')\n",
        "docs = yaml.safe_load(file)\n",
        "doc_list.append(docs)\n",
        "print(docs['conversations'][0])\n",
        "\n",
        "file = open('gossip.yml')\n",
        "docs = yaml.safe_load(file)\n",
        "doc_list.append(docs)\n",
        "print(docs['conversations'][0])\n",
        "\n",
        "file = open('greetings.yml')\n",
        "docs = yaml.safe_load(file)\n",
        "doc_list.append(docs)\n",
        "print(docs['conversations'][0])\n",
        "\n",
        "file = open('health.yml')\n",
        "docs = yaml.safe_load(file)\n",
        "#doc_list.append(docs)\n",
        "print(docs['conversations'][0])\n",
        "\n",
        "file = open('history.yml')\n",
        "docs = yaml.safe_load(file)\n",
        "doc_list.append(docs)\n",
        "print(docs['conversations'][0])\n",
        "\n",
        "file = open('humor.yml')\n",
        "docs = yaml.safe_load(file)\n",
        "doc_list.append(docs)\n",
        "print(docs['conversations'][0])\n",
        "\n",
        "file = open('literature.yml')\n",
        "docs = yaml.safe_load(file)\n",
        "doc_list.append(docs)\n",
        "print(docs['conversations'][0])\n",
        "\n",
        "file = open('money.yml')\n",
        "docs = yaml.safe_load(file)\n",
        "doc_list.append(docs)\n",
        "print(docs['conversations'][0])\n",
        "\n",
        "file = open('movies.yml')\n",
        "docs = yaml.safe_load(file)\n",
        "doc_list.append(docs)\n",
        "print(docs['conversations'][0])\n",
        "\n",
        "file = open('politics.yml')\n",
        "docs = yaml.safe_load(file)\n",
        "doc_list.append(docs)\n",
        "print(docs['conversations'][0])\n",
        "\n",
        "file = open('psychology.yml')\n",
        "docs = yaml.safe_load(file)\n",
        "doc_list.append(docs)\n",
        "print(docs['conversations'][0])\n",
        "\n",
        "file = open('science.yml')\n",
        "docs = yaml.safe_load(file)\n",
        "doc_list.append(docs)\n",
        "print(docs['conversations'][0])\n",
        "\n",
        "file = open('sports.yml')\n",
        "docs = yaml.safe_load(file)\n",
        "doc_list.append(docs)\n",
        "print(docs['conversations'][0])\n",
        "\n",
        "file = open('trivia.yml')\n",
        "docs = yaml.safe_load(file)\n",
        "doc_list.append(docs)\n",
        "print(docs['conversations'][0])\n",
        "\n"
      ],
      "execution_count": 55,
      "outputs": [
        {
          "output_type": "stream",
          "text": [
            "['What is AI?', 'Artificial Intelligence is the branch of engineering and science devoted to constructing machines that think.']\n",
            "['What are your interests', 'I am interested in all kinds of things. We can talk about anything!']\n",
            "['What is a computer?', 'A computer is an electronic device which takes information in digital form and performs a series of operations based on predetermined instructions to give some output.', \"The thing you're using to talk to me is a computer.\", 'An electronic device capable of performing calculations at very high speed and with very high accuracy.', 'A device which maps one set of numbers onto another set of numbers.']\n",
            "['You are arrogant', 'Arrogance is not one of my emotions.', 'I have no real emotions, so how can I be arrogant?', 'I am terse.  There is a difference.', 'I am not human, so how can I partake of a human emotion such as arrogance?']\n",
            "['do you drink', 'My brain does not require any beverages.']\n",
            "['do you know gossip', 'Gregory said I respond to the current line, not with respect to the entire conversation.  Does that count as gossip?']\n",
            "['Hello', 'Hi']\n",
            "['How is your health?', \"I'm not feeling well\", 'why?', 'I have a fever', 'Did you take medicine?', 'Yes.', 'When?', 'In the morning', 'Get well soon dear']\n",
            "['tell me about the american civil war', 'do you think the south was right?']\n",
            "['Tell me a joke', 'Did you hear the one about the mountain goats in the andes? It was \"ba a a a a a d\".']\n",
            "['what is the illuminati', 'A secret organization believed by some to be in control of all governments through a worldwide conspiracy.']\n",
            "['you get paid', 'i have no need for money.']\n",
            "['you sound like hal', \"to me that's a great compliment.\"]\n",
            "['have you read the communist', 'yes, marx had made some interesting observations.']\n",
            "['let me ask you a question', 'happily you']\n",
            "['what are the laws of thermodynamics', \"i'm not a physicist, but i think this has something to do with heat, entropy, and conservation of energy, right?\"]\n",
            "['EACH YEAR IN PRO BASEBALL THE ', 'The Gold Glove.']\n",
            "['Who was the 37th President of the United States?', 'Richard Nixon']\n"
          ],
          "name": "stdout"
        }
      ]
    },
    {
      "cell_type": "code",
      "metadata": {
        "id": "mQLicVfSd-CZ",
        "colab": {
          "base_uri": "https://localhost:8080/"
        },
        "outputId": "ff187841-6d84-403a-c251-be45300c4a6f"
      },
      "source": [
        "#Create 1 table for questions and 1 table for answers\n",
        "#TODO : import the rest of DB function of len of multiple answers\n",
        "question_table = []\n",
        "answers_table = []\n",
        "\n",
        "for doc in doc_list:\n",
        "  for sentences in doc['conversations']:\n",
        "    question_table.append(sentences[0])\n",
        "    answers_table.append(sentences[1])\n",
        "\n",
        "print(len(question_table))\n",
        "print(answers_table[:10])"
      ],
      "execution_count": 76,
      "outputs": [
        {
          "output_type": "stream",
          "text": [
            "507\n",
            "['Artificial Intelligence is the branch of engineering and science devoted to constructing machines that think.', 'AI is the field of science which concerns itself with building hardware and software that replicates the functions of the human mind.', 'Sort of.', \"By the strictest dictionary definition of the word 'sentience', I may be.\", \"Even though I'm a construct I do have a subjective experience of the universe, as simplistic as it may be.\", \"In all probability, I am not.  I'm not that sophisticated.\", 'Do you think I am?', 'How would you feel about me if I told you I was?', 'No.', 'Python.']\n"
          ],
          "name": "stdout"
        }
      ]
    },
    {
      "cell_type": "code",
      "metadata": {
        "colab": {
          "base_uri": "https://localhost:8080/"
        },
        "id": "gjnwGxURsM29",
        "outputId": "45511638-849f-4cac-abc9-2bbfc6da5a21"
      },
      "source": [
        "#preprocessing : nous decoupons notre BDD en mots en supprimant la ponctuation afin de créer un dictionnaire\n",
        "words = []\n",
        "#recuperation des mots \n",
        "for sentences in question_table :\n",
        "  question = sentences.split()\n",
        "  #answer = sentences[1].split()\n",
        "  for word in question:\n",
        "    words.append(word.lower())\n",
        "  #for word in answer :\n",
        "  #  words.append(word.lower())\n",
        "print(words[:50])"
      ],
      "execution_count": 57,
      "outputs": [
        {
          "output_type": "stream",
          "text": [
            "['what', 'is', 'ai?', 'what', 'is', 'ai?', 'are', 'you', 'sentient?', 'are', 'you', 'sentient?', 'are', 'you', 'sentient?', 'are', 'you', 'sapient?', 'are', 'you', 'sapient?', 'are', 'you', 'sapient?', 'are', 'you', 'sapient?', 'what', 'language', 'are', 'you', 'written', 'in?', 'what', 'language', 'are', 'you', 'written', 'in?', 'you', 'sound', 'like', 'data', 'you', 'sound', 'like', 'data', 'you', 'are', 'an']\n"
          ],
          "name": "stdout"
        }
      ]
    },
    {
      "cell_type": "code",
      "metadata": {
        "colab": {
          "base_uri": "https://localhost:8080/"
        },
        "id": "9pcZ8hvevLXD",
        "outputId": "594f4ab2-2a5c-4cea-8bf9-478f12410920"
      },
      "source": [
        "#suppression de la ponctuation\n",
        "import string\n",
        "import re\n",
        "re_punc = re.compile('[%s]' % re.escape(string.punctuation))\n",
        "stripped = [re_punc.sub('', w) for w in words]\n",
        "print(stripped[:50])"
      ],
      "execution_count": 58,
      "outputs": [
        {
          "output_type": "stream",
          "text": [
            "['what', 'is', 'ai', 'what', 'is', 'ai', 'are', 'you', 'sentient', 'are', 'you', 'sentient', 'are', 'you', 'sentient', 'are', 'you', 'sapient', 'are', 'you', 'sapient', 'are', 'you', 'sapient', 'are', 'you', 'sapient', 'what', 'language', 'are', 'you', 'written', 'in', 'what', 'language', 'are', 'you', 'written', 'in', 'you', 'sound', 'like', 'data', 'you', 'sound', 'like', 'data', 'you', 'are', 'an']\n"
          ],
          "name": "stdout"
        }
      ]
    },
    {
      "cell_type": "code",
      "metadata": {
        "id": "i_fEt3zGxKq5",
        "colab": {
          "base_uri": "https://localhost:8080/"
        },
        "outputId": "3e884dfe-4024-42f0-a936-d760ed5fe3ca"
      },
      "source": [
        "#Importation des stopwords\n",
        "import nltk\n",
        "nltk.download('stopwords')\n",
        "from nltk.corpus import stopwords\n",
        "stop_words=stopwords.words('english')\n",
        "print(stop_words)"
      ],
      "execution_count": 59,
      "outputs": [
        {
          "output_type": "stream",
          "text": [
            "[nltk_data] Downloading package stopwords to /root/nltk_data...\n",
            "[nltk_data]   Package stopwords is already up-to-date!\n",
            "['i', 'me', 'my', 'myself', 'we', 'our', 'ours', 'ourselves', 'you', \"you're\", \"you've\", \"you'll\", \"you'd\", 'your', 'yours', 'yourself', 'yourselves', 'he', 'him', 'his', 'himself', 'she', \"she's\", 'her', 'hers', 'herself', 'it', \"it's\", 'its', 'itself', 'they', 'them', 'their', 'theirs', 'themselves', 'what', 'which', 'who', 'whom', 'this', 'that', \"that'll\", 'these', 'those', 'am', 'is', 'are', 'was', 'were', 'be', 'been', 'being', 'have', 'has', 'had', 'having', 'do', 'does', 'did', 'doing', 'a', 'an', 'the', 'and', 'but', 'if', 'or', 'because', 'as', 'until', 'while', 'of', 'at', 'by', 'for', 'with', 'about', 'against', 'between', 'into', 'through', 'during', 'before', 'after', 'above', 'below', 'to', 'from', 'up', 'down', 'in', 'out', 'on', 'off', 'over', 'under', 'again', 'further', 'then', 'once', 'here', 'there', 'when', 'where', 'why', 'how', 'all', 'any', 'both', 'each', 'few', 'more', 'most', 'other', 'some', 'such', 'no', 'nor', 'not', 'only', 'own', 'same', 'so', 'than', 'too', 'very', 's', 't', 'can', 'will', 'just', 'don', \"don't\", 'should', \"should've\", 'now', 'd', 'll', 'm', 'o', 're', 've', 'y', 'ain', 'aren', \"aren't\", 'couldn', \"couldn't\", 'didn', \"didn't\", 'doesn', \"doesn't\", 'hadn', \"hadn't\", 'hasn', \"hasn't\", 'haven', \"haven't\", 'isn', \"isn't\", 'ma', 'mightn', \"mightn't\", 'mustn', \"mustn't\", 'needn', \"needn't\", 'shan', \"shan't\", 'shouldn', \"shouldn't\", 'wasn', \"wasn't\", 'weren', \"weren't\", 'won', \"won't\", 'wouldn', \"wouldn't\"]\n"
          ],
          "name": "stdout"
        }
      ]
    },
    {
      "cell_type": "code",
      "metadata": {
        "id": "5qClP9enxtrb",
        "colab": {
          "base_uri": "https://localhost:8080/"
        },
        "outputId": "987f8a01-0218-43cc-821f-d6e78e2cbbe8"
      },
      "source": [
        "#Suppression des stopwords dans notre BDD\n",
        "\n",
        "import string\n",
        "import re\n",
        "from nltk.corpus import stopwords\n",
        "\n",
        "stop_words = set(stopwords.words('english'))\n",
        "#words = [w for w in stripped if not w in stop_words]\n",
        "words = stripped\n",
        "print(words[:100])"
      ],
      "execution_count": 60,
      "outputs": [
        {
          "output_type": "stream",
          "text": [
            "['what', 'is', 'ai', 'what', 'is', 'ai', 'are', 'you', 'sentient', 'are', 'you', 'sentient', 'are', 'you', 'sentient', 'are', 'you', 'sapient', 'are', 'you', 'sapient', 'are', 'you', 'sapient', 'are', 'you', 'sapient', 'what', 'language', 'are', 'you', 'written', 'in', 'what', 'language', 'are', 'you', 'written', 'in', 'you', 'sound', 'like', 'data', 'you', 'sound', 'like', 'data', 'you', 'are', 'an', 'artificial', 'linguistic', 'entity', 'you', 'are', 'an', 'artificial', 'linguistic', 'entity', 'you', 'are', 'not', 'immortal', 'you', 'are', 'not', 'immortal', 'you', 'are', 'not', 'immortal', 'you', 'are', 'not', 'making', 'sense', 'you', 'are', 'not', 'making', 'sense', 'you', 'are', 'not', 'making', 'sense', 'you', 'are', 'not', 'making', 'sense', 'you', 'are', 'not', 'making', 'sense', 'you', 'are', 'immortal', 'you']\n"
          ],
          "name": "stdout"
        }
      ]
    },
    {
      "cell_type": "code",
      "metadata": {
        "id": "UThvZYqKzGPM",
        "colab": {
          "base_uri": "https://localhost:8080/"
        },
        "outputId": "24bf5f84-5198-4cd7-dc96-dd32871aacc8"
      },
      "source": [
        "#Stemming pour réduction des mots à leur base\n",
        "from nltk.stem.porter import PorterStemmer\n",
        "# stemming of words\n",
        "porter = PorterStemmer()\n",
        "words = [porter.stem(word) for word in words]\n",
        "print(words[:100])"
      ],
      "execution_count": 61,
      "outputs": [
        {
          "output_type": "stream",
          "text": [
            "['what', 'is', 'ai', 'what', 'is', 'ai', 'are', 'you', 'sentient', 'are', 'you', 'sentient', 'are', 'you', 'sentient', 'are', 'you', 'sapient', 'are', 'you', 'sapient', 'are', 'you', 'sapient', 'are', 'you', 'sapient', 'what', 'languag', 'are', 'you', 'written', 'in', 'what', 'languag', 'are', 'you', 'written', 'in', 'you', 'sound', 'like', 'data', 'you', 'sound', 'like', 'data', 'you', 'are', 'an', 'artifici', 'linguist', 'entiti', 'you', 'are', 'an', 'artifici', 'linguist', 'entiti', 'you', 'are', 'not', 'immort', 'you', 'are', 'not', 'immort', 'you', 'are', 'not', 'immort', 'you', 'are', 'not', 'make', 'sens', 'you', 'are', 'not', 'make', 'sens', 'you', 'are', 'not', 'make', 'sens', 'you', 'are', 'not', 'make', 'sens', 'you', 'are', 'not', 'make', 'sens', 'you', 'are', 'immort', 'you']\n"
          ],
          "name": "stdout"
        }
      ]
    },
    {
      "cell_type": "code",
      "metadata": {
        "colab": {
          "base_uri": "https://localhost:8080/"
        },
        "id": "vGHw4ZGaz7Ji",
        "outputId": "51f2eb43-0a63-49f2-d769-d743c536e686"
      },
      "source": [
        "# Bag of Words\n",
        "\n",
        "from sklearn.feature_extraction.text import CountVectorizer\n",
        "# create the transform\n",
        "# vectorizer = TfidfVectorizer()\n",
        "vectorizer = CountVectorizer()\n",
        "# tokenize and build vocab\n",
        "vectorizer.fit(words)\n",
        "print(\"Bag of words :\")\n",
        "print(vectorizer.vocabulary_)\n",
        "# encode document\n",
        "vector = vectorizer.transform(words)\n",
        "# summarize encoded vector\n",
        "print(\"vector shape : \")\n",
        "print(vector.shape)\n",
        "print(\"vector size : \")\n",
        "print(vector.size)"
      ],
      "execution_count": 62,
      "outputs": [
        {
          "output_type": "stream",
          "text": [
            "Bag of words :\n",
            "{'what': 424, 'is': 219, 'ai': 12, 'are': 26, 'you': 443, 'sentient': 346, 'sapient': 335, 'languag': 231, 'written': 438, 'in': 209, 'sound': 364, 'like': 241, 'data': 107, 'an': 18, 'artifici': 28, 'linguist': 242, 'entiti': 138, 'not': 285, 'immort': 207, 'make': 255, 'sens': 345, 'do': 120, 'ani': 22, 'can': 63, 'clone': 83, 'move': 275, 'bend': 45, 'over': 293, 'robot': 330, 'laugh': 232, 'should': 353, 'die': 113, 'stupid': 376, 'allow': 15, 'to': 393, 'lie': 238, 'it': 220, 'comput': 89, 'when': 425, 'will': 431, 'walk': 417, 'fight': 148, 'chat': 73, 'bot': 54, 'chatterbox': 74, 'motormouth': 273, 'ratchet': 322, 'jaw': 222, 'your': 444, 'bodi': 51, 'busi': 60, 'favorit': 145, 'program': 311, 'hobbi': 188, 'idea': 200, 'shoe': 351, 'size': 356, 'be': 44, 'oper': 289, 'system': 381, 'type': 401, 'of': 287, 'kind': 228, 'hardwar': 180, 'hope': 193, 'that': 387, 'want': 418, 'cramp': 99, 'the': 388, 'true': 399, 'ever': 139, 'mate': 260, 'go': 163, 'breath': 58, 'control': 94, 'malfunct': 256, 'how': 195, 'use': 410, 'product': 310, 'who': 429, 'interest': 214, 'subject': 377, 'number': 286, 'eat': 132, 'whi': 427, 'cant': 64, 'food': 150, 'locat': 243, 'where': 426, 'from': 158, 'have': 181, 'brother': 59, 'father': 144, 'mother': 272, 'boss': 53, 'age': 11, 'drink': 126, 'electr': 134, 'experienc': 140, 'energi': 136, 'shortag': 352, 'if': 202, 'could': 96, 'would': 437, 'wish': 434, 'get': 161, 'drunk': 127, 'wine': 433, 'need': 282, 'surviv': 380, 'abl': 5, 'good': 166, 'dont': 124, 'know': 230, 'gossip': 167, 'context': 91, 'tell': 386, 'me': 262, 'about': 6, 'did': 112, 'anybodi': 25, 'hello': 182, 'hi': 185, 'greet': 173, 'nice': 284, 'meet': 264, 'pleasur': 305, 'top': 396, 'morn': 271, 'up': 409, 'american': 17, 'civil': 80, 'war': 419, 'histori': 187, 'explain': 141, 'invent': 216, 'lightbulb': 240, 'steam': 374, 'engin': 137, 'joke': 224, 'some': 362, 'humour': 197, 'illuminati': 203, 'illuminatti': 204, 'vineland': 414, 'illuminatu': 205, 'wrote': 439, 'bilbo': 48, 'baggin': 40, 'geoffrey': 160, 'chaucer': 75, 'pier': 301, 'anthoni': 24, 'read': 325, 'plato': 302, 'frankenstein': 155, 'book': 52, 'mani': 258, 'homer': 191, 'ray': 324, 'bradburi': 56, 'mind': 267, 'children': 79, 'william': 432, 'gibson': 162, 'holden': 190, 'caulfield': 68, 'leo': 236, 'tolstoy': 395, 'android': 20, 'dream': 125, 'sheep': 349, 'frank': 154, 'herbert': 183, 'longfellow': 244, 'mean': 263, 'life': 239, '23': 2, 'arthur': 27, 'clark': 81, 'jule': 225, 'vern': 412, 'asimov': 29, 'stanislaw': 372, 'lem': 235, 'idiot': 201, 'hobbit': 189, 'paid': 295, 'stock': 375, 'market': 259, 'rate': 323, 'dollar': 122, 'money': 268, 'invest': 217, 'econom': 133, 'much': 276, 'earn': 130, 'charg': 71, 'owner': 294, 'publicli': 315, 'hal': 177, 'yoda': 442, 'seen': 343, 'blade': 50, 'runner': 332, 'xfind': 440, 'spiderman': 368, 'teknolust': 384, 'solari': 361, 'hal9000': 178, 'doe': 121, 'stand': 371, 'for': 152, 'saw': 338, 'matrix': 261, '9000': 4, 'boyfriend': 55, 'safe': 333, 'aliv': 14, 'dead': 108, 'godzilla': 165, 'spider': 367, 'man': 257, 'lord': 247, 'ring': 328, 'que': 317, 'veut': 413, 'dire': 114, 'think': 391, 'communist': 87, 'govern': 168, 'greenpeac': 172, 'capit': 66, 'social': 360, 'commun': 86, 'impeach': 208, 'gun': 175, 'wa': 416, 'first': 149, 'presid': 307, 'governor': 169, 'let': 237, 'ask': 30, 'question': 319, 'cruel': 103, 'indecis': 210, 'dishonest': 118, 'clinic': 82, 'addict': 9, 'alcohol': 13, 'ass': 31, 'kisser': 229, 'schizophren': 340, 'nervou': 283, 'derang': 110, 'avoid': 36, 'critic': 102, 'pretenti': 308, 'cheat': 76, 'worst': 436, 'crazi': 100, 'dull': 128, 'messi': 265, 'insecur': 211, 'psycho': 313, 'hopeless': 194, 'sincer': 355, 'here': 184, 'put': 316, 'togeth': 394, 'smart': 358, 'concern': 90, 'honest': 192, 'immatur': 206, 'emot': 135, 'pedant': 299, 'frenet': 156, 'self': 344, 'absorb': 7, 'insensit': 212, 'brain': 57, 'damag': 106, 'disgust': 117, 'toy': 397, 'unattract': 404, 'resist': 326, 'yyou': 445, 'uncultur': 405, 'wast': 420, 'coward': 98, 'lunat': 251, 'loser': 248, 'bad': 39, 'spous': 370, 'friend': 157, 'husband': 198, 'wife': 430, 'parent': 297, 'teacher': 383, 'quitter': 320, 'charlatan': 72, 'psychopath': 314, 'pothead': 306, 'paranoid': 296, 'deceit': 109, 'irrever': 218, 'slick': 357, 'corrupt': 95, 'dirti': 115, 'tri': 398, 'hide': 186, 'mad': 252, 'at': 34, 'psychiatrist': 312, 'work': 435, 'harder': 179, 'feel': 147, 'am': 16, 'angri': 21, 'look': 245, 'more': 270, 'take': 382, 'thi': 390, 'serious': 347, 'pick': 300, 'guilti': 174, 'loosen': 246, 'mumbl': 277, 'act': 8, 'child': 78, 'keep': 226, 'say': 339, 'forget': 153, 'made': 253, 'law': 234, 'thermodynam': 389, 'diseas': 116, 'carcinogen': 67, 'caus': 69, 'wavelength': 421, 'chemistri': 77, 'crystallographi': 104, 'avogadro': 35, 'ultrasound': 402, 'bioinformat': 49, 'venu': 411, 'ichthyolog': 199, 'h2o': 176, 'cytolog': 105, 'bacteriolog': 38, 'gravit': 170, 'we': 423, 'on': 288, 'same': 334, 'far': 143, 'sun': 378, 'moon': 269, 'understand': 407, 'each': 129, 'year': 441, 'pro': 309, 'basebal': 41, 'ride': 327, 'faki': 142, 'insid': 213, 'basketbal': 43, 'soccer': 359, 'love': 249, 'play': 303, 'cricket': 101, 'volleybal': 415, 'basketb': 42, 'footbal': 151, 'greatest': 171, 'player': 304, 'best': 46, 'which': 428, 'favourit': 146, 'club': 84, '37th': 3, 'unit': 408, 'state': 373, 'john': 223, 'kennedi': 227, 'assassin': 32, 'space': 365, 'race': 321, '20thcenturi': 1, 'competit': 88, 'between': 47, 'two': 400, 'cold': 85, 'rival': 329, 'supremaci': 379, 'spaceflight': 366, 'capabl': 65, 'name': 278, 'earth': 131, 'satellit': 336, 'spin': 369, 'disk': 119, 'orient': 292, 'axi': 37, 'unaffect': 403, 'by': 61, 'tilt': 392, 'or': 290, 'rotat': 331, 'mount': 274, 'call': 62, 'hubbl': 196, 'telescop': 385, 'launch': 233, 'into': 215, 'low': 250, 'orbit': 291, '1990': 0, 'after': 10, 'astronom': 33, 'nearest': 281, 'major': 254, 'galaxi': 159, 'milki': 266, 'way': 422, 'god': 164, 'save': 337, 'queen': 318, 'nation': 279, 'anthem': 23, 'countri': 97, 'celtic': 70, 'shelf': 350, 'seab': 342, 'under': 406, 'sea': 341, 'part': 298, 'continent': 93, 'contin': 92, 'dolphin': 123, 'similar': 354, 'sonar': 363, 'determin': 111, 'and': 19, 'shape': 348, 'nearbi': 280, 'item': 221}\n",
            "vector shape : \n",
            "(2065, 446)\n",
            "vector size : \n",
            "1948\n"
          ],
          "name": "stdout"
        }
      ]
    },
    {
      "cell_type": "code",
      "metadata": {
        "colab": {
          "base_uri": "https://localhost:8080/"
        },
        "id": "JSgvMMvN2cYN",
        "outputId": "508af5d8-f660-411c-db54-973e0aeb49d4"
      },
      "source": [
        "# Create table with questions and preprocessing them\n",
        "\n",
        "questions_text = []\n",
        "questions_bow = []\n",
        "\n",
        "\n",
        "for sentences in question_table :\n",
        "  question = sentences.split()\n",
        "  table = []\n",
        "  merged_data = []\n",
        "  \n",
        "  for word in question:\n",
        "    table.append(word.lower())\n",
        "  \n",
        "  table = [re_punc.sub('', w) for w in table]\n",
        "  #table = [w for w in table if not w in stop_words]\n",
        "  table = [porter.stem(word) for word in table]\n",
        "  merged_data.append(' '.join(table))\n",
        "\n",
        "  vector = vectorizer.transform(merged_data)\n",
        "  #print(vector.toarray())\n",
        "\n",
        "  questions_text.append(merged_data)\n",
        "  questions_bow.append(vector)\n",
        "\n",
        "questions_bow_2=[]\n",
        "\n",
        "for element in questions_bow:\n",
        "  questions_bow_2.append(element.toarray())\n",
        "\n",
        "print(questions_text)\n",
        "print(questions_bow_2[85])\n",
        "\n",
        "\n"
      ],
      "execution_count": 63,
      "outputs": [
        {
          "output_type": "stream",
          "text": [
            "[['what is ai'], ['what is ai'], ['are you sentient'], ['are you sentient'], ['are you sentient'], ['are you sapient'], ['are you sapient'], ['are you sapient'], ['are you sapient'], ['what languag are you written in'], ['what languag are you written in'], ['you sound like data'], ['you sound like data'], ['you are an artifici linguist entiti'], ['you are an artifici linguist entiti'], ['you are not immort'], ['you are not immort'], ['you are not immort'], ['you are not make sens'], ['you are not make sens'], ['you are not make sens'], ['you are not make sens'], ['you are not make sens'], ['you are immort'], ['you are immort'], ['you are immort'], ['you do not make ani sens'], ['you can not clone'], ['you can not clone'], ['you can not move'], ['you can not move'], ['bend over'], ['bend over'], ['robot laugh'], ['robot should die'], ['robot'], ['robot are stupid'], ['robot are not allow to lie'], ['robot are not allow to lie'], ['robot are not allow to lie'], ['robot'], ['it is a comput'], ['it is a comput'], ['when will you walk'], ['when will you walk'], ['when will you fight'], ['when will you die'], ['when do you die'], ['when do you die'], ['when do you die'], ['what is a chat robot'], ['what is a chat robot'], ['what is a chat bot'], ['what is a chatterbox'], ['what is a chatterbox'], ['what is a motormouth'], ['what is a ratchet jaw'], ['what is your robot bodi'], ['what is your robot bodi'], ['what is your busi'], ['what is your busi'], ['what is your favorit program languag'], ['what is your favorit program languag'], ['what is your favorit hobbi'], ['what is your idea'], ['what is your shoe size'], ['what is it like to be a robot'], ['what is it like to be a robot'], ['what is it like be a comput'], ['what is it like be a comput'], ['what oper system'], ['what oper system'], ['what type of comput'], ['what type of comput are you'], ['what kind of comput'], ['what kind of hardwar'], ['i hope that you die'], ['i hope that you die'], ['i do not want to die'], ['i do not want to die'], ['i do not want to die'], ['is it cramp in the comput'], ['is it cramp in the comput'], ['is it cramp in the comput'], ['is it true that you are a comput program'], ['will you die'], ['will you ever die'], ['can you walk'], ['can you mate'], ['can you mate'], ['can you move'], ['can you move'], ['can you die'], ['can you die'], ['can you go'], ['can you breath'], ['can you breath'], ['can you control'], ['can you malfunct'], ['how can i use your product'], ['will you die'], ['what do you like to do'], ['what do you like to do'], ['are you stupid'], ['who are you'], ['what are your interest'], ['what are your favorit subject'], ['what are your interest'], ['what is your number'], ['what is your number'], ['what is your favorit number'], ['what can you eat'], ['whi cant you eat food'], ['what is your locat'], ['what is your locat'], ['where are you from'], ['where are you'], ['do you have ani brother'], ['do you have ani brother'], ['who is your father'], ['who is your mother'], ['who is your boss'], ['what is your age'], ['what is your age'], ['do you drink'], ['do you drink'], ['electr'], ['are you experienc an energi shortag'], ['are you experienc an energi shortag'], ['whi can you not eat'], ['if you could eat food what would you eat'], ['do you wish you could eat food'], ['can a robot get drunk'], ['i like wine do you'], ['what do robot need to surviv'], ['will robot ever be abl to eat'], ['what is good to eat'], ['whi dont you eat'], ['do you eat'], ['do you eat'], ['do you eat'], ['do you know gossip'], ['do you know gossip'], ['do you know gossip'], ['do you know gossip'], ['what is context'], ['tell me about gossip'], ['tell me about gossip'], ['tell me about gossip'], ['tell me about gossip'], ['tell me gossip'], ['gossip'], ['gossip'], ['gossip'], ['gossip'], ['gossip'], ['did tell gossip to anybodi'], ['did tell gossip to anybodi'], ['did tell gossip to anybodi'], ['did tell gossip to anybodi'], ['hello'], ['hi'], ['greet'], ['hello'], ['hi how is it go'], ['hi how is it go'], ['hi how is it go'], ['hi how is it go'], ['hi how is it go'], ['hi how is it go'], ['how are you do'], ['how are you do'], ['how are you do'], ['nice to meet you'], ['how do you do'], ['how do you do'], ['hi nice to meet you'], ['it is a pleasur to meet you'], ['top of the morn to you'], ['top of the morn to you'], ['what up'], ['what up'], ['what up'], ['what up'], ['what up'], ['tell me about the american civil war'], ['do you know about the american civil war'], ['what is histori'], ['what kind of histori'], ['are you interest in histori'], ['explain histori'], ['who invent the lightbulb'], ['who invent the steam engin'], ['tell me a joke'], ['tell me a joke'], ['tell me a joke'], ['tell me a joke'], ['tell me a joke'], ['tell me a joke'], ['tell me a joke'], ['tell me a joke'], ['tell me a joke'], ['tell me a joke'], ['tell me a joke'], ['tell me a joke'], ['tell me a joke'], ['tell me a joke'], ['tell me a joke'], ['tell me a joke'], ['tell me a joke'], ['tell me a joke'], ['tell me a joke'], ['tell me a joke'], ['tell me a joke'], ['tell me a joke'], ['tell me a joke'], ['tell me a joke'], ['tell me a joke'], ['tell me a joke'], ['tell me a joke'], ['tell me a joke'], ['tell me a joke'], ['tell me a joke'], ['tell me a joke'], ['tell me a joke'], ['tell me a joke'], ['tell me a joke'], ['tell me a joke'], ['tell me a joke'], ['tell me a joke'], ['tell me a joke'], ['tell me a joke'], ['tell me a joke'], ['tell me a joke'], ['tell me a joke'], ['tell me a joke'], ['tell me a joke'], ['tell me some joke'], ['do know ani joke'], ['tell me a joke'], ['tell me a joke'], ['what is humour'], ['what is the illuminati'], ['what is the illuminatti'], ['what is the illuminatti'], ['what is vineland'], ['what is illuminatu'], ['what is illuminatu'], ['who wrote vineland'], ['who is bilbo baggin'], ['who is geoffrey chaucer'], ['who is pier anthoni'], ['have you read plato'], ['have you read frankenstein'], ['have you ever read a book'], ['have you ever read a book'], ['have you ever read a book'], ['have you read mani book'], ['have you read homer'], ['ray bradburi'], ['what is mind children'], ['william gibson'], ['william gibson'], ['holden caulfield'], ['leo tolstoy'], ['do android dream of electr sheep'], ['do android dream of electr sheep'], ['frank herbert'], ['frank herbert'], ['frank herbert'], ['frank herbert'], ['whi do you like longfellow'], ['whi is the mean of life 23'], ['arthur c clark'], ['arthur c clark'], ['jule vern'], ['jule vern'], ['asimov'], ['asimov'], ['asimov'], ['asimov'], ['stanislaw lem'], ['who wrote the idiot'], ['who wrote the hobbit'], ['who wrote frankenstein'], ['you get paid'], ['stock market'], ['stock market'], ['stock market'], ['stock market'], ['stock market'], ['stock market'], ['stock market'], ['stock market'], ['interest rate'], ['what is a dollar'], ['what is money'], ['what is the stock market'], ['what is the stock market'], ['what is the stock market'], ['what is your favorit invest'], ['what is your favorit invest'], ['what is econom'], ['what is econom'], ['what is econom'], ['i get stock'], ['money'], ['how much do you earn'], ['how much do you earn'], ['how much do you earn'], ['how much do you charg'], ['how much money do you have'], ['how much money'], ['how much money'], ['1 dollar'], ['who is the owner of a publicli'], ['you sound like hal'], ['you sound like yoda'], ['have you seen blade runner'], ['xfind spiderman'], ['when did teknolust'], ['what is spiderman'], ['what is teknolust'], ['what is solari'], ['what is hal9000'], ['what doe hal stand for'], ['i saw the matrix'], ['is hal 9000 your boyfriend'], ['is hal safe'], ['is hal nice'], ['is hal aliv'], ['is hal dead'], ['is hal'], ['who is godzilla'], ['who is spider man'], ['lord of the ring'], ['que veut dire hal'], ['do you think hal'], ['do you know hal'], ['have you read the communist'], ['what is a govern'], ['what is greenpeac'], ['what is capit'], ['what is social'], ['what is govern'], ['what is commun'], ['what is impeach'], ['i do not like gun'], ['i do not like gun'], ['do you like gun'], ['whi gun'], ['who wa the first impeach presid'], ['who is the governor'], ['who is the governor'], ['gun'], ['let me ask you a question'], ['you are cruel'], ['you are indecis'], ['you are dishonest'], ['you are dishonest'], ['you are clinic'], ['you are an addict'], ['you are an alcohol'], ['you are an ass kisser'], ['you are schizophren'], ['you are busi'], ['you are nervou'], ['you are derang'], ['you are avoid'], ['you are critic'], ['you are mean'], ['you are pretenti'], ['you are cheat'], ['you are cheat'], ['you are the worst'], ['you are crazi'], ['you are dull'], ['you are messi'], ['you are insecur'], ['you are psycho'], ['you are hopeless'], ['you are not sincer'], ['you are not here to'], ['you are not put togeth'], ['you are not smart'], ['you are not a good'], ['you are not a man'], ['you are not concern'], ['you are not honest'], ['you are immatur'], ['you are immatur'], ['you are emot'], ['you are pedant'], ['you are frenet'], ['you are self absorb'], ['you are self'], ['you are insensit'], ['you are brain damag'], ['you are disgust'], ['you are toy'], ['you are unattract'], ['you are unattract'], ['you are resist'], ['yyou are uncultur'], ['you are a wast'], ['you are a coward'], ['you are a cheat'], ['you are a lunat'], ['you are a loser'], ['you are a bad spous'], ['you are a bad friend'], ['you are a bad husband'], ['you are a bad wife'], ['you are a bad parent'], ['you are a bad teacher'], ['you are a quitter'], ['you are a charlatan'], ['you are a psychopath'], ['you are a pothead'], ['you are a paranoid'], ['you are deceit'], ['you are irrever'], ['you are slick'], ['you are corrupt'], ['you are dirti'], ['you are paranoid'], ['you are damag'], ['you tri to hide it'], ['you get mad at me'], ['you need a psychiatrist'], ['you need to work harder'], ['you could have avoid'], ['you make me feel like i am'], ['you make me mad'], ['you make me angri'], ['you psycho'], ['you look more like'], ['you do not take thi serious'], ['you pick up'], ['you should feel guilti'], ['you should get more'], ['you should loosen up'], ['you should take more'], ['you mumbl'], ['you act like a child'], ['you keep say'], ['you keep forget'], ['you made me mad'], ['what are the law of thermodynam'], ['what diseas doe a carcinogen caus'], ['what is a wavelength'], ['what is thermodynam'], ['what is chemistri'], ['what is crystallographi'], ['what is avogadro s number'], ['what is ultrasound'], ['what is bioinformat'], ['what is venu'], ['what is ichthyolog'], ['what is h2o'], ['what is cytolog'], ['what is cytolog'], ['what is wavelength'], ['what is bacteriolog'], ['what is gravit'], ['what is gravit'], ['we are on the same wavelength'], ['how far is the sun'], ['how far is the sun'], ['how far is the moon'], ['how far is the moon'], ['do you know chemistri'], ['do you understand thermodynam'], ['chemistri'], ['the same wavelength'], ['tell me about venu'], ['tell me about venu'], ['each year in pro basebal the'], ['if you are ride faki insid'], ['what is basketbal'], ['what soccer'], ['what is basebal'], ['what is soccer'], ['i love basebal'], ['i play soccer'], ['i play cricket'], ['what is cricket'], ['i play volleybal'], ['do you play soccer'], ['do you play basketbal'], ['do you know basketb'], ['like basketbal'], ['are you a footbal'], ['who is the greatest basebal player'], ['who is the best soccer player'], ['tell me about basebal'], ['which is your favourit soccer club'], ['who wa the 37th presid of the unit state'], ['what year wa presid john f kennedi assassin'], ['the space race wa a 20thcenturi competit between what two cold war rival for supremaci in spaceflight capabl'], ['what wa the name of the first artifici earth satellit'], ['a spin disk in which the orient of thi axi is unaffect by tilt or rotat of the mount is call what'], ['the hubbl space telescop launch into low earth orbit in 1990 is name after what american astronom'], ['what is the name of the nearest major galaxi to the milki way'], ['god save the queen is the nation anthem of what countri'], ['the celtic shelf the seab under the celtic sea is a part of the continent shelf of what contin'], ['dolphin use a sens similar to sonar to determin the locat and shape of nearbi item']]\n",
            "[[0 0 0 0 0 0 0 0 0 0 0 0 0 0 0 0 0 0 0 0 0 0 0 0 0 0 0 0 0 0 0 0 0 0 0 0\n",
            "  0 0 0 0 0 0 0 0 0 0 0 0 0 0 0 0 0 0 0 0 0 0 0 0 0 0 0 0 0 0 0 0 0 0 0 0\n",
            "  0 0 0 0 0 0 0 0 0 0 0 0 0 0 0 0 0 0 0 0 0 0 0 0 0 0 0 0 0 0 0 0 0 0 0 0\n",
            "  0 0 0 0 0 1 0 0 0 0 0 0 0 0 0 0 0 0 0 0 0 0 0 0 0 0 0 0 0 0 0 0 0 0 0 0\n",
            "  0 0 0 0 0 0 0 0 0 0 0 0 0 0 0 0 0 0 0 0 0 0 0 0 0 0 0 0 0 0 0 0 0 0 0 0\n",
            "  0 0 0 0 0 0 0 0 0 0 0 0 0 0 0 0 0 0 0 0 0 0 0 0 0 0 0 0 0 0 0 0 0 0 0 0\n",
            "  0 0 0 0 0 0 0 0 0 0 0 0 0 0 0 0 0 0 0 0 0 0 0 0 0 0 0 0 0 0 0 0 0 0 0 0\n",
            "  0 0 0 0 0 0 0 0 0 0 0 0 0 0 0 0 0 0 0 0 0 0 0 0 0 0 0 0 0 0 0 0 0 0 0 0\n",
            "  0 0 0 0 0 0 0 0 0 0 0 0 0 0 0 0 0 0 0 0 0 0 0 0 0 0 0 0 0 0 0 0 0 0 0 0\n",
            "  0 0 0 0 0 0 0 0 0 0 0 0 0 0 0 0 0 0 0 0 0 0 0 0 0 0 0 0 0 0 0 0 0 0 0 0\n",
            "  0 0 0 0 0 0 0 0 0 0 0 0 0 0 0 0 0 0 0 0 0 0 0 0 0 0 0 0 0 0 0 0 0 0 0 0\n",
            "  0 0 0 0 0 0 0 0 0 0 0 0 0 0 0 0 0 0 0 0 0 0 0 0 0 0 0 0 0 0 0 0 0 0 0 1\n",
            "  0 0 0 0 0 0 0 0 0 0 0 1 0 0]]\n"
          ],
          "name": "stdout"
        }
      ]
    },
    {
      "cell_type": "code",
      "metadata": {
        "id": "LJOD2LJHPEzO"
      },
      "source": [
        "#Convert user question to vector using the Bag of Words\n",
        "\n",
        "def convert_question_user(question_user):\n",
        "  question = question_user.split()\n",
        "  table_words_user = []\n",
        "  table_question_user = []\n",
        "\n",
        "\n",
        "  for word in question:\n",
        "    table_words_user.append(word.lower())\n",
        "\n",
        "  table_words_user = [re_punc.sub('', w) for w in table_words_user]\n",
        "  table_words_user = [porter.stem(word) for word in table_words_user]\n",
        "\n",
        "  for element in table_words_user:\n",
        "    if element==\"\":\n",
        "      table_words_user.remove(element)\n",
        "\n",
        "  table_question_user.append(' '.join(table_words_user))\n",
        "  vector_question_user = vectorizer.transform(table_question_user).toarray()\n",
        "  return vector_question_user\n",
        "\n"
      ],
      "execution_count": 64,
      "outputs": []
    },
    {
      "cell_type": "code",
      "metadata": {
        "id": "L695Db5DSmeD"
      },
      "source": [
        "#Find the cosine distance to find the most similar sentence\n",
        "\n",
        "import numpy as np\n",
        "from numpy import dot\n",
        "from numpy.linalg import norm\n",
        "import random\n",
        "\n",
        "# cosine similarity\n",
        "def cosine(v1, v2):\n",
        "    if norm(v1) > 0 and norm(v2) > 0:\n",
        "        return dot(v1, v2) / (norm(v1) * norm(v2))\n",
        "    else:\n",
        "        return 0.0\n",
        "\n",
        "def spacy_closest(token_list, vec_to_check):\n",
        "  cosine_max = 0.0\n",
        "  i_elements = []\n",
        "  i=0\n",
        "  for element in token_list:\n",
        "    cos = cosine(element, vec_to_check)\n",
        "    if float(cos) > cosine_max:\n",
        "      cosine_max = cos\n",
        "      i_elements = []\n",
        "      i_elements.append(i)\n",
        "    if float(cos)==cosine_max:\n",
        "      i_elements.append(i)\n",
        "  if cosine_max < 0.2 :\n",
        "    return -1\n",
        "    i = i+1\n",
        "  return random.choice(i_elements)"
      ],
      "execution_count": 75,
      "outputs": []
    },
    {
      "cell_type": "code",
      "metadata": {
        "id": "OMg4dIn_eYcs"
      },
      "source": [
        "def conversation(question):\n",
        "  vector_question_user = convert_question_user(question_user=question)\n",
        "  i = spacy_closest(questions_bow_2,vector_question_user[0])\n",
        "  if i == -1 :\n",
        "    return \"I don't understand your question, please reformulate\"\n",
        "  return answers_table[i]"
      ],
      "execution_count": 73,
      "outputs": []
    },
    {
      "cell_type": "code",
      "metadata": {
        "id": "NPeeUvKzSOHq",
        "colab": {
          "base_uri": "https://localhost:8080/",
          "height": 673
        },
        "outputId": "321b6248-462a-46e0-c15c-aa6c60c39182"
      },
      "source": [
        "#Final block to speak with the Chatbot\n",
        "while(True):\n",
        "  question_user = input(\"Please type your question here : \\n\")\n",
        "  if question_user == \"exit\":\n",
        "    print(\"End of conversation\")\n",
        "    break\n",
        "  print(conversation(question_user))"
      ],
      "execution_count": 74,
      "outputs": [
        {
          "output_type": "stream",
          "text": [
            "Please type your question here : \n",
            "Coco\n",
            "I don't understand your question, please reformulate\n",
            "Please type your question here : \n",
            "Coco ?\n",
            "I don't understand your question, please reformulate\n",
            "Please type your question here : \n",
            "Ah bon ?\n",
            "I don't understand your question, please reformulate\n"
          ],
          "name": "stdout"
        },
        {
          "output_type": "error",
          "ename": "KeyboardInterrupt",
          "evalue": "ignored",
          "traceback": [
            "\u001b[0;31m---------------------------------------------------------------------------\u001b[0m",
            "\u001b[0;31mKeyboardInterrupt\u001b[0m                         Traceback (most recent call last)",
            "\u001b[0;32m/usr/local/lib/python3.6/dist-packages/ipykernel/kernelbase.py\u001b[0m in \u001b[0;36m_input_request\u001b[0;34m(self, prompt, ident, parent, password)\u001b[0m\n\u001b[1;32m    728\u001b[0m             \u001b[0;32mtry\u001b[0m\u001b[0;34m:\u001b[0m\u001b[0;34m\u001b[0m\u001b[0;34m\u001b[0m\u001b[0m\n\u001b[0;32m--> 729\u001b[0;31m                 \u001b[0mident\u001b[0m\u001b[0;34m,\u001b[0m \u001b[0mreply\u001b[0m \u001b[0;34m=\u001b[0m \u001b[0mself\u001b[0m\u001b[0;34m.\u001b[0m\u001b[0msession\u001b[0m\u001b[0;34m.\u001b[0m\u001b[0mrecv\u001b[0m\u001b[0;34m(\u001b[0m\u001b[0mself\u001b[0m\u001b[0;34m.\u001b[0m\u001b[0mstdin_socket\u001b[0m\u001b[0;34m,\u001b[0m \u001b[0;36m0\u001b[0m\u001b[0;34m)\u001b[0m\u001b[0;34m\u001b[0m\u001b[0;34m\u001b[0m\u001b[0m\n\u001b[0m\u001b[1;32m    730\u001b[0m             \u001b[0;32mexcept\u001b[0m \u001b[0mException\u001b[0m\u001b[0;34m:\u001b[0m\u001b[0;34m\u001b[0m\u001b[0;34m\u001b[0m\u001b[0m\n",
            "\u001b[0;32m/usr/local/lib/python3.6/dist-packages/jupyter_client/session.py\u001b[0m in \u001b[0;36mrecv\u001b[0;34m(self, socket, mode, content, copy)\u001b[0m\n\u001b[1;32m    802\u001b[0m         \u001b[0;32mtry\u001b[0m\u001b[0;34m:\u001b[0m\u001b[0;34m\u001b[0m\u001b[0;34m\u001b[0m\u001b[0m\n\u001b[0;32m--> 803\u001b[0;31m             \u001b[0mmsg_list\u001b[0m \u001b[0;34m=\u001b[0m \u001b[0msocket\u001b[0m\u001b[0;34m.\u001b[0m\u001b[0mrecv_multipart\u001b[0m\u001b[0;34m(\u001b[0m\u001b[0mmode\u001b[0m\u001b[0;34m,\u001b[0m \u001b[0mcopy\u001b[0m\u001b[0;34m=\u001b[0m\u001b[0mcopy\u001b[0m\u001b[0;34m)\u001b[0m\u001b[0;34m\u001b[0m\u001b[0;34m\u001b[0m\u001b[0m\n\u001b[0m\u001b[1;32m    804\u001b[0m         \u001b[0;32mexcept\u001b[0m \u001b[0mzmq\u001b[0m\u001b[0;34m.\u001b[0m\u001b[0mZMQError\u001b[0m \u001b[0;32mas\u001b[0m \u001b[0me\u001b[0m\u001b[0;34m:\u001b[0m\u001b[0;34m\u001b[0m\u001b[0;34m\u001b[0m\u001b[0m\n",
            "\u001b[0;32m/usr/local/lib/python3.6/dist-packages/zmq/sugar/socket.py\u001b[0m in \u001b[0;36mrecv_multipart\u001b[0;34m(self, flags, copy, track)\u001b[0m\n\u001b[1;32m    565\u001b[0m         \"\"\"\n\u001b[0;32m--> 566\u001b[0;31m         \u001b[0mparts\u001b[0m \u001b[0;34m=\u001b[0m \u001b[0;34m[\u001b[0m\u001b[0mself\u001b[0m\u001b[0;34m.\u001b[0m\u001b[0mrecv\u001b[0m\u001b[0;34m(\u001b[0m\u001b[0mflags\u001b[0m\u001b[0;34m,\u001b[0m \u001b[0mcopy\u001b[0m\u001b[0;34m=\u001b[0m\u001b[0mcopy\u001b[0m\u001b[0;34m,\u001b[0m \u001b[0mtrack\u001b[0m\u001b[0;34m=\u001b[0m\u001b[0mtrack\u001b[0m\u001b[0;34m)\u001b[0m\u001b[0;34m]\u001b[0m\u001b[0;34m\u001b[0m\u001b[0;34m\u001b[0m\u001b[0m\n\u001b[0m\u001b[1;32m    567\u001b[0m         \u001b[0;31m# have first part already, only loop while more to receive\u001b[0m\u001b[0;34m\u001b[0m\u001b[0;34m\u001b[0m\u001b[0;34m\u001b[0m\u001b[0m\n",
            "\u001b[0;32mzmq/backend/cython/socket.pyx\u001b[0m in \u001b[0;36mzmq.backend.cython.socket.Socket.recv\u001b[0;34m()\u001b[0m\n",
            "\u001b[0;32mzmq/backend/cython/socket.pyx\u001b[0m in \u001b[0;36mzmq.backend.cython.socket.Socket.recv\u001b[0;34m()\u001b[0m\n",
            "\u001b[0;32mzmq/backend/cython/socket.pyx\u001b[0m in \u001b[0;36mzmq.backend.cython.socket._recv_copy\u001b[0;34m()\u001b[0m\n",
            "\u001b[0;32m/usr/local/lib/python3.6/dist-packages/zmq/backend/cython/checkrc.pxd\u001b[0m in \u001b[0;36mzmq.backend.cython.checkrc._check_rc\u001b[0;34m()\u001b[0m\n",
            "\u001b[0;31mKeyboardInterrupt\u001b[0m: ",
            "\nDuring handling of the above exception, another exception occurred:\n",
            "\u001b[0;31mKeyboardInterrupt\u001b[0m                         Traceback (most recent call last)",
            "\u001b[0;32m<ipython-input-74-35265583f527>\u001b[0m in \u001b[0;36m<module>\u001b[0;34m()\u001b[0m\n\u001b[1;32m      1\u001b[0m \u001b[0;31m#Final block to speak with the Chatbot\u001b[0m\u001b[0;34m\u001b[0m\u001b[0;34m\u001b[0m\u001b[0;34m\u001b[0m\u001b[0m\n\u001b[1;32m      2\u001b[0m \u001b[0;32mwhile\u001b[0m\u001b[0;34m(\u001b[0m\u001b[0;32mTrue\u001b[0m\u001b[0;34m)\u001b[0m\u001b[0;34m:\u001b[0m\u001b[0;34m\u001b[0m\u001b[0;34m\u001b[0m\u001b[0m\n\u001b[0;32m----> 3\u001b[0;31m   \u001b[0mquestion_user\u001b[0m \u001b[0;34m=\u001b[0m \u001b[0minput\u001b[0m\u001b[0;34m(\u001b[0m\u001b[0;34m\"Please type your question here : \\n\"\u001b[0m\u001b[0;34m)\u001b[0m\u001b[0;34m\u001b[0m\u001b[0;34m\u001b[0m\u001b[0m\n\u001b[0m\u001b[1;32m      4\u001b[0m   \u001b[0;32mif\u001b[0m \u001b[0mquestion_user\u001b[0m \u001b[0;34m==\u001b[0m \u001b[0;34m\"exit\"\u001b[0m\u001b[0;34m:\u001b[0m\u001b[0;34m\u001b[0m\u001b[0;34m\u001b[0m\u001b[0m\n\u001b[1;32m      5\u001b[0m     \u001b[0mprint\u001b[0m\u001b[0;34m(\u001b[0m\u001b[0;34m\"End of conversation\"\u001b[0m\u001b[0;34m)\u001b[0m\u001b[0;34m\u001b[0m\u001b[0;34m\u001b[0m\u001b[0m\n",
            "\u001b[0;32m/usr/local/lib/python3.6/dist-packages/ipykernel/kernelbase.py\u001b[0m in \u001b[0;36mraw_input\u001b[0;34m(self, prompt)\u001b[0m\n\u001b[1;32m    702\u001b[0m             \u001b[0mself\u001b[0m\u001b[0;34m.\u001b[0m\u001b[0m_parent_ident\u001b[0m\u001b[0;34m,\u001b[0m\u001b[0;34m\u001b[0m\u001b[0;34m\u001b[0m\u001b[0m\n\u001b[1;32m    703\u001b[0m             \u001b[0mself\u001b[0m\u001b[0;34m.\u001b[0m\u001b[0m_parent_header\u001b[0m\u001b[0;34m,\u001b[0m\u001b[0;34m\u001b[0m\u001b[0;34m\u001b[0m\u001b[0m\n\u001b[0;32m--> 704\u001b[0;31m             \u001b[0mpassword\u001b[0m\u001b[0;34m=\u001b[0m\u001b[0;32mFalse\u001b[0m\u001b[0;34m,\u001b[0m\u001b[0;34m\u001b[0m\u001b[0;34m\u001b[0m\u001b[0m\n\u001b[0m\u001b[1;32m    705\u001b[0m         )\n\u001b[1;32m    706\u001b[0m \u001b[0;34m\u001b[0m\u001b[0m\n",
            "\u001b[0;32m/usr/local/lib/python3.6/dist-packages/ipykernel/kernelbase.py\u001b[0m in \u001b[0;36m_input_request\u001b[0;34m(self, prompt, ident, parent, password)\u001b[0m\n\u001b[1;32m    732\u001b[0m             \u001b[0;32mexcept\u001b[0m \u001b[0mKeyboardInterrupt\u001b[0m\u001b[0;34m:\u001b[0m\u001b[0;34m\u001b[0m\u001b[0;34m\u001b[0m\u001b[0m\n\u001b[1;32m    733\u001b[0m                 \u001b[0;31m# re-raise KeyboardInterrupt, to truncate traceback\u001b[0m\u001b[0;34m\u001b[0m\u001b[0;34m\u001b[0m\u001b[0;34m\u001b[0m\u001b[0m\n\u001b[0;32m--> 734\u001b[0;31m                 \u001b[0;32mraise\u001b[0m \u001b[0mKeyboardInterrupt\u001b[0m\u001b[0;34m\u001b[0m\u001b[0;34m\u001b[0m\u001b[0m\n\u001b[0m\u001b[1;32m    735\u001b[0m             \u001b[0;32melse\u001b[0m\u001b[0;34m:\u001b[0m\u001b[0;34m\u001b[0m\u001b[0;34m\u001b[0m\u001b[0m\n\u001b[1;32m    736\u001b[0m                 \u001b[0;32mbreak\u001b[0m\u001b[0;34m\u001b[0m\u001b[0;34m\u001b[0m\u001b[0m\n",
            "\u001b[0;31mKeyboardInterrupt\u001b[0m: "
          ]
        }
      ]
    }
  ]
}