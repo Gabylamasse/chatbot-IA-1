{
  "nbformat": 4,
  "nbformat_minor": 0,
  "metadata": {
    "colab": {
      "name": "Chatbot.ipynb",
      "provenance": [],
      "include_colab_link": true
    },
    "kernelspec": {
      "name": "python3",
      "display_name": "Python 3"
    }
  },
  "cells": [
    {
      "cell_type": "markdown",
      "metadata": {
        "id": "view-in-github",
        "colab_type": "text"
      },
      "source": [
        "<a href=\"https://colab.research.google.com/github/corentinBlanchard/chatbot-IA/blob/main/Chatbot.ipynb\" target=\"_parent\"><img src=\"https://colab.research.google.com/assets/colab-badge.svg\" alt=\"Open In Colab\"/></a>"
      ]
    },
    {
      "cell_type": "code",
      "metadata": {
        "id": "3M7SLJGFYcff"
      },
      "source": [
        "#Imports pour recuperation de fichiers a partir de google drive ( ou la DB est stockee)\n",
        "!pip install -U -q PyDrive\n",
        "from pydrive.auth import GoogleAuth\n",
        "from pydrive.drive import GoogleDrive\n",
        "from google.colab import auth\n",
        "from oauth2client.client import GoogleCredentials"
      ],
      "execution_count": 30,
      "outputs": []
    },
    {
      "cell_type": "code",
      "metadata": {
        "id": "o-RrjpYbheb4"
      },
      "source": [
        "auth.authenticate_user()\n",
        "gauth = GoogleAuth()\n",
        "gauth.credentials = GoogleCredentials.get_application_default()\n",
        "drive = GoogleDrive(gauth)"
      ],
      "execution_count": 2,
      "outputs": []
    },
    {
      "cell_type": "code",
      "metadata": {
        "id": "dzEbTqoyhplz"
      },
      "source": [
        "#Importation des donnees sur la conversation concernant l'IA\n",
        "downloaded = drive.CreateFile({'id':'1asz0LQpmjqAfx7_rc6WxkOeYOS848F2S'})\n",
        "downloaded.GetContentFile('ia.yml') "
      ],
      "execution_count": 3,
      "outputs": []
    },
    {
      "cell_type": "code",
      "metadata": {
        "colab": {
          "base_uri": "https://localhost:8080/"
        },
        "id": "yBEDqOtCiVta",
        "outputId": "cbda16b4-5356-4097-a6d0-170978f0fb99"
      },
      "source": [
        "import yaml\n",
        "file = open('ia.yml')\n",
        "docs = yaml.safe_load(file)\n",
        "print(docs['conversations'][0])"
      ],
      "execution_count": 4,
      "outputs": [
        {
          "output_type": "stream",
          "text": [
            "['What is AI?', 'Artificial Intelligence is the branch of engineering and science devoted to constructing machines that think.']\n"
          ],
          "name": "stdout"
        }
      ]
    },
    {
      "cell_type": "code",
      "metadata": {
        "colab": {
          "base_uri": "https://localhost:8080/"
        },
        "id": "gjnwGxURsM29",
        "outputId": "ed02459e-eb48-4dad-ca57-aa36414a1de0"
      },
      "source": [
        "#preprocessing : nous decoupons notre BDD en mots en supprimant la ponctuation afin de créer un dictionnaire\n",
        "words = []\n",
        "#recuperation des mots \n",
        "for sentences in docs['conversations'] :\n",
        "  question = sentences[0].split()\n",
        "  #answer = sentences[1].split()\n",
        "  for word in question:\n",
        "    words.append(word.lower())\n",
        "  #for word in answer :\n",
        "  #  words.append(word.lower())\n",
        "print(words[:50])"
      ],
      "execution_count": 24,
      "outputs": [
        {
          "output_type": "stream",
          "text": [
            "['what', 'is', 'ai?', 'what', 'is', 'ai?', 'are', 'you', 'sentient?', 'are', 'you', 'sentient?', 'are', 'you', 'sentient?', 'are', 'you', 'sapient?', 'are', 'you', 'sapient?', 'are', 'you', 'sapient?', 'are', 'you', 'sapient?', 'what', 'language', 'are', 'you', 'written', 'in?', 'what', 'language', 'are', 'you', 'written', 'in?', 'you', 'sound', 'like', 'data', 'you', 'sound', 'like', 'data', 'you', 'are', 'an']\n"
          ],
          "name": "stdout"
        }
      ]
    },
    {
      "cell_type": "code",
      "metadata": {
        "colab": {
          "base_uri": "https://localhost:8080/"
        },
        "id": "9pcZ8hvevLXD",
        "outputId": "04973b6a-8f8b-4e40-d8ba-132cd5e7389c"
      },
      "source": [
        "#suppression de la ponctuation\n",
        "import string\n",
        "import re\n",
        "re_punc = re.compile('[%s]' % re.escape(string.punctuation))\n",
        "stripped = [re_punc.sub('', w) for w in words]\n",
        "print(stripped[:50])"
      ],
      "execution_count": 25,
      "outputs": [
        {
          "output_type": "stream",
          "text": [
            "['what', 'is', 'ai', 'what', 'is', 'ai', 'are', 'you', 'sentient', 'are', 'you', 'sentient', 'are', 'you', 'sentient', 'are', 'you', 'sapient', 'are', 'you', 'sapient', 'are', 'you', 'sapient', 'are', 'you', 'sapient', 'what', 'language', 'are', 'you', 'written', 'in', 'what', 'language', 'are', 'you', 'written', 'in', 'you', 'sound', 'like', 'data', 'you', 'sound', 'like', 'data', 'you', 'are', 'an']\n"
          ],
          "name": "stdout"
        }
      ]
    },
    {
      "cell_type": "code",
      "metadata": {
        "id": "i_fEt3zGxKq5",
        "colab": {
          "base_uri": "https://localhost:8080/"
        },
        "outputId": "0afc9bcf-8dd5-4a3d-f86c-a364665c2ab4"
      },
      "source": [
        "#Importation des stopwords\n",
        "import nltk\n",
        "nltk.download('stopwords')\n",
        "from nltk.corpus import stopwords\n",
        "stop_words=stopwords.words('english')\n",
        "print(stop_words)"
      ],
      "execution_count": 26,
      "outputs": [
        {
          "output_type": "stream",
          "text": [
            "[nltk_data] Downloading package stopwords to /root/nltk_data...\n",
            "[nltk_data]   Package stopwords is already up-to-date!\n",
            "['i', 'me', 'my', 'myself', 'we', 'our', 'ours', 'ourselves', 'you', \"you're\", \"you've\", \"you'll\", \"you'd\", 'your', 'yours', 'yourself', 'yourselves', 'he', 'him', 'his', 'himself', 'she', \"she's\", 'her', 'hers', 'herself', 'it', \"it's\", 'its', 'itself', 'they', 'them', 'their', 'theirs', 'themselves', 'what', 'which', 'who', 'whom', 'this', 'that', \"that'll\", 'these', 'those', 'am', 'is', 'are', 'was', 'were', 'be', 'been', 'being', 'have', 'has', 'had', 'having', 'do', 'does', 'did', 'doing', 'a', 'an', 'the', 'and', 'but', 'if', 'or', 'because', 'as', 'until', 'while', 'of', 'at', 'by', 'for', 'with', 'about', 'against', 'between', 'into', 'through', 'during', 'before', 'after', 'above', 'below', 'to', 'from', 'up', 'down', 'in', 'out', 'on', 'off', 'over', 'under', 'again', 'further', 'then', 'once', 'here', 'there', 'when', 'where', 'why', 'how', 'all', 'any', 'both', 'each', 'few', 'more', 'most', 'other', 'some', 'such', 'no', 'nor', 'not', 'only', 'own', 'same', 'so', 'than', 'too', 'very', 's', 't', 'can', 'will', 'just', 'don', \"don't\", 'should', \"should've\", 'now', 'd', 'll', 'm', 'o', 're', 've', 'y', 'ain', 'aren', \"aren't\", 'couldn', \"couldn't\", 'didn', \"didn't\", 'doesn', \"doesn't\", 'hadn', \"hadn't\", 'hasn', \"hasn't\", 'haven', \"haven't\", 'isn', \"isn't\", 'ma', 'mightn', \"mightn't\", 'mustn', \"mustn't\", 'needn', \"needn't\", 'shan', \"shan't\", 'shouldn', \"shouldn't\", 'wasn', \"wasn't\", 'weren', \"weren't\", 'won', \"won't\", 'wouldn', \"wouldn't\"]\n"
          ],
          "name": "stdout"
        }
      ]
    },
    {
      "cell_type": "code",
      "metadata": {
        "id": "5qClP9enxtrb",
        "colab": {
          "base_uri": "https://localhost:8080/"
        },
        "outputId": "4488983a-6825-47a0-c05d-61136a924e86"
      },
      "source": [
        "#Suppression des stopwords dans notre BDD\n",
        "\n",
        "import string\n",
        "import re\n",
        "from nltk.corpus import stopwords\n",
        "\n",
        "stop_words = set(stopwords.words('english'))\n",
        "words = [w for w in stripped if not w in stop_words]\n",
        "print(words[:100])"
      ],
      "execution_count": 27,
      "outputs": [
        {
          "output_type": "stream",
          "text": [
            "['ai', 'ai', 'sentient', 'sentient', 'sentient', 'sapient', 'sapient', 'sapient', 'sapient', 'language', 'written', 'language', 'written', 'sound', 'like', 'data', 'sound', 'like', 'data', 'artificial', 'linguistic', 'entity', 'artificial', 'linguistic', 'entity', 'immortal', 'immortal', 'immortal', 'making', 'sense', 'making', 'sense', 'making', 'sense', 'making', 'sense', 'making', 'sense', 'immortal', 'immortal', 'immortal', 'make', 'sense', 'clone', 'clone', 'move', 'move', 'bend', 'bend', 'robots', 'laugh', 'robots', 'die', 'robots', 'robots', 'stupid', 'robots', 'allowed', 'lie', 'robots', 'allowed', 'lie', 'robots', 'allowed', 'lie', 'robotics', 'computer', 'computer', 'walk', 'walk', 'fight', 'die', 'die', 'die', 'die', 'chat', 'robot', 'chat', 'robot', 'chat', 'bot', 'chatterbox', 'chatterbox', 'motormouth', 'ratchet', 'jaw', 'robot', 'body', 'robot', 'body', 'business', 'business', 'favorite', 'programming', 'language', 'favorite', 'programming', 'language', 'favorite', 'hobby']\n"
          ],
          "name": "stdout"
        }
      ]
    },
    {
      "cell_type": "code",
      "metadata": {
        "id": "UThvZYqKzGPM",
        "colab": {
          "base_uri": "https://localhost:8080/"
        },
        "outputId": "bdcf1ef3-e1d0-40c9-98a0-38ceab8a86d1"
      },
      "source": [
        "#Stemming pour réduction des mots à leur base\n",
        "from nltk.stem.porter import PorterStemmer\n",
        "# stemming of words\n",
        "porter = PorterStemmer()\n",
        "words = [porter.stem(word) for word in words]\n",
        "print(words[:100])"
      ],
      "execution_count": 28,
      "outputs": [
        {
          "output_type": "stream",
          "text": [
            "['ai', 'ai', 'sentient', 'sentient', 'sentient', 'sapient', 'sapient', 'sapient', 'sapient', 'languag', 'written', 'languag', 'written', 'sound', 'like', 'data', 'sound', 'like', 'data', 'artifici', 'linguist', 'entiti', 'artifici', 'linguist', 'entiti', 'immort', 'immort', 'immort', 'make', 'sens', 'make', 'sens', 'make', 'sens', 'make', 'sens', 'make', 'sens', 'immort', 'immort', 'immort', 'make', 'sens', 'clone', 'clone', 'move', 'move', 'bend', 'bend', 'robot', 'laugh', 'robot', 'die', 'robot', 'robot', 'stupid', 'robot', 'allow', 'lie', 'robot', 'allow', 'lie', 'robot', 'allow', 'lie', 'robot', 'comput', 'comput', 'walk', 'walk', 'fight', 'die', 'die', 'die', 'die', 'chat', 'robot', 'chat', 'robot', 'chat', 'bot', 'chatterbox', 'chatterbox', 'motormouth', 'ratchet', 'jaw', 'robot', 'bodi', 'robot', 'bodi', 'busi', 'busi', 'favorit', 'program', 'languag', 'favorit', 'program', 'languag', 'favorit', 'hobbi']\n"
          ],
          "name": "stdout"
        }
      ]
    },
    {
      "cell_type": "code",
      "metadata": {
        "colab": {
          "base_uri": "https://localhost:8080/"
        },
        "id": "vGHw4ZGaz7Ji",
        "outputId": "d3b6e530-3e8f-478d-9fcf-16c469b9e560"
      },
      "source": [
        "# Bag of Words\n",
        "\n",
        "from sklearn.feature_extraction.text import CountVectorizer\n",
        "# create the transform\n",
        "# vectorizer = TfidfVectorizer()\n",
        "vectorizer = CountVectorizer()\n",
        "# tokenize and build vocab\n",
        "vectorizer.fit(words)\n",
        "print(\"Bag of words :\")\n",
        "print(vectorizer.vocabulary_)\n",
        "# encode document\n",
        "vector = vectorizer.transform(words)\n",
        "# summarize encoded vector\n",
        "print(\"vector shape : \")\n",
        "print(vector.shape)\n",
        "print(\"vector size : \")\n",
        "print(vector.size)"
      ],
      "execution_count": 29,
      "outputs": [
        {
          "output_type": "stream",
          "text": [
            "Bag of words :\n",
            "{'ai': 0, 'sentient': 45, 'sapient': 43, 'languag': 28, 'written': 56, 'sound': 48, 'like': 31, 'data': 14, 'artifici': 2, 'linguist': 32, 'entiti': 16, 'immort': 25, 'make': 33, 'sens': 44, 'clone': 10, 'move': 37, 'bend': 3, 'robot': 42, 'laugh': 29, 'die': 15, 'stupid': 49, 'allow': 1, 'lie': 30, 'comput': 11, 'walk': 54, 'fight': 19, 'chat': 8, 'bot': 5, 'chatterbox': 9, 'motormouth': 36, 'ratchet': 41, 'jaw': 26, 'bodi': 4, 'busi': 7, 'favorit': 18, 'program': 40, 'hobbi': 22, 'idea': 24, 'shoe': 46, 'size': 47, 'oper': 38, 'system': 50, 'type': 52, 'kind': 27, 'hardwar': 21, 'hope': 23, 'want': 55, 'cramp': 13, 'true': 51, 'ever': 17, 'mate': 35, 'go': 20, 'breath': 6, 'control': 12, 'malfunct': 34, 'use': 53, 'product': 39}\n",
            "vector shape : \n",
            "(163, 57)\n",
            "vector size : \n",
            "163\n"
          ],
          "name": "stdout"
        }
      ]
    },
    {
      "cell_type": "code",
      "metadata": {
        "colab": {
          "base_uri": "https://localhost:8080/"
        },
        "id": "JSgvMMvN2cYN",
        "outputId": "5887c72c-3c3f-4e91-dcff-31773895911d"
      },
      "source": [
        "# Create table with questions and preprocessing them\n",
        "\n",
        "questions_text = []\n",
        "questions_bow = []\n",
        "\n",
        "\n",
        "for sentences in docs['conversations'] :\n",
        "  question = sentences[0].split()\n",
        "  table = []\n",
        "  \n",
        "  for word in question:\n",
        "    table.append(word.lower())\n",
        "  \n",
        "  table = [re_punc.sub('', w) for w in table]\n",
        "  table = [w for w in table if not w in stop_words]\n",
        "  table = [porter.stem(word) for word in table]\n",
        "  vector = vectorizer.transform(table)\n",
        "\n",
        "  questions_text.append(table)\n",
        "  questions_bow.append(vector)\n",
        "\n",
        "print(questions_text)\n",
        "print(questions_bow[2].toarray())"
      ],
      "execution_count": 57,
      "outputs": [
        {
          "output_type": "stream",
          "text": [
            "[['ai'], ['ai'], ['sentient'], ['sentient'], ['sentient'], ['sapient'], ['sapient'], ['sapient'], ['sapient'], ['languag', 'written'], ['languag', 'written'], ['sound', 'like', 'data'], ['sound', 'like', 'data'], ['artifici', 'linguist', 'entiti'], ['artifici', 'linguist', 'entiti'], ['immort'], ['immort'], ['immort'], ['make', 'sens'], ['make', 'sens'], ['make', 'sens'], ['make', 'sens'], ['make', 'sens'], ['immort'], ['immort'], ['immort'], ['make', 'sens'], ['clone'], ['clone'], ['move'], ['move'], ['bend'], ['bend'], ['robot', 'laugh'], ['robot', 'die'], ['robot'], ['robot', 'stupid'], ['robot', 'allow', 'lie'], ['robot', 'allow', 'lie'], ['robot', 'allow', 'lie'], ['robot'], ['comput'], ['comput'], ['walk'], ['walk'], ['fight'], ['die'], ['die'], ['die'], ['die'], ['chat', 'robot'], ['chat', 'robot'], ['chat', 'bot'], ['chatterbox'], ['chatterbox'], ['motormouth'], ['ratchet', 'jaw'], ['robot', 'bodi'], ['robot', 'bodi'], ['busi'], ['busi'], ['favorit', 'program', 'languag'], ['favorit', 'program', 'languag'], ['favorit', 'hobbi'], ['idea'], ['shoe', 'size'], ['like', 'robot'], ['like', 'robot'], ['like', 'comput'], ['like', 'comput'], ['oper', 'system'], ['oper', 'system'], ['type', 'comput'], ['type', 'comput'], ['kind', 'comput'], ['kind', 'hardwar'], ['hope', 'die'], ['hope', 'die'], ['want', 'die'], ['want', 'die'], ['want', 'die'], ['cramp', 'comput'], ['cramp', 'comput'], ['cramp', 'comput'], ['true', 'comput', 'program'], ['die'], ['ever', 'die'], ['walk'], ['mate'], ['mate'], ['move'], ['move'], ['die'], ['die'], ['go'], ['breath'], ['breath'], ['control'], ['malfunct'], ['use', 'product'], ['die'], ['like'], ['like'], ['stupid'], []]\n",
            "[[0 0 0 0 0 0 0 0 0 0 0 0 0 0 0 0 0 0 0 0 0 0 0 0 0 0 0 0 0 0 0 0 0 0 0 0\n",
            "  0 0 0 0 0 0 0 0 0 1 0 0 0 0 0 0 0 0 0 0 0]]\n"
          ],
          "name": "stdout"
        }
      ]
    }
  ]
}