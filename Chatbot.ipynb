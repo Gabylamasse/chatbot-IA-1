{
  "nbformat": 4,
  "nbformat_minor": 0,
  "metadata": {
    "colab": {
      "name": "Chatbot.ipynb",
      "provenance": [],
      "include_colab_link": true
    },
    "kernelspec": {
      "name": "python3",
      "display_name": "Python 3"
    }
  },
  "cells": [
    {
      "cell_type": "markdown",
      "metadata": {
        "id": "view-in-github",
        "colab_type": "text"
      },
      "source": [
        "<a href=\"https://colab.research.google.com/github/corentinBlanchard/chatbot-IA/blob/main/Chatbot.ipynb\" target=\"_parent\"><img src=\"https://colab.research.google.com/assets/colab-badge.svg\" alt=\"Open In Colab\"/></a>"
      ]
    },
    {
      "cell_type": "code",
      "metadata": {
        "id": "3M7SLJGFYcff"
      },
      "source": [
        "#Imports pour recuperation de fichiers a partir de google drive ( ou la DB est stockee)\n",
        "!pip install -U -q PyDrive\n",
        "from pydrive.auth import GoogleAuth\n",
        "from pydrive.drive import GoogleDrive\n",
        "from google.colab import auth\n",
        "from oauth2client.client import GoogleCredentials"
      ],
      "execution_count": 5,
      "outputs": []
    },
    {
      "cell_type": "code",
      "metadata": {
        "id": "o-RrjpYbheb4"
      },
      "source": [
        "auth.authenticate_user()\n",
        "gauth = GoogleAuth()\n",
        "gauth.credentials = GoogleCredentials.get_application_default()\n",
        "drive = GoogleDrive(gauth)"
      ],
      "execution_count": 6,
      "outputs": []
    },
    {
      "cell_type": "code",
      "metadata": {
        "id": "dzEbTqoyhplz"
      },
      "source": [
        "#Importation des donnees sur la conversation concernant l'IA\n",
        "downloaded = drive.CreateFile({'id':'1asz0LQpmjqAfx7_rc6WxkOeYOS848F2S'})\n",
        "downloaded.GetContentFile('ia.yml') "
      ],
      "execution_count": 8,
      "outputs": []
    },
    {
      "cell_type": "code",
      "metadata": {
        "colab": {
          "base_uri": "https://localhost:8080/"
        },
        "id": "yBEDqOtCiVta",
        "outputId": "c29e42ce-5181-4355-b507-0a5bdb873526"
      },
      "source": [
        "import yaml\n",
        "file = open('ia.yml')\n",
        "docs = yaml.safe_load(file)\n",
        "print(docs['conversations'][0])"
      ],
      "execution_count": 19,
      "outputs": [
        {
          "output_type": "stream",
          "text": [
            "['What is AI?', 'Artificial Intelligence is the branch of engineering and science devoted to constructing machines that think.']\n"
          ],
          "name": "stdout"
        }
      ]
    },
    {
      "cell_type": "code",
      "metadata": {
        "colab": {
          "base_uri": "https://localhost:8080/"
        },
        "id": "gjnwGxURsM29",
        "outputId": "3d009ff5-f3c6-426d-a805-3d094ad4d356"
      },
      "source": [
        "#preprocessing : nous decoupons notre BDD en mots en supprimant la ponctuation afin de créer un dictionnaire\n",
        "words = []\n",
        "#recuperation des mots \n",
        "for sentences in docs['conversations'] :\n",
        "  question = sentences[0].split()\n",
        "  answer = sentences[1].split()\n",
        "  for word in question:\n",
        "    words.append(word.lower())\n",
        "  for word in answer :\n",
        "    words.append(word.lower())\n",
        "print(words[:50])"
      ],
      "execution_count": 35,
      "outputs": [
        {
          "output_type": "stream",
          "text": [
            "['what', 'is', 'ai?', 'artificial', 'intelligence', 'is', 'the', 'branch', 'of', 'engineering', 'and', 'science', 'devoted', 'to', 'constructing', 'machines', 'that', 'think.', 'what', 'is', 'ai?', 'ai', 'is', 'the', 'field', 'of', 'science', 'which', 'concerns', 'itself', 'with', 'building', 'hardware', 'and', 'software', 'that', 'replicates', 'the', 'functions', 'of', 'the', 'human', 'mind.', 'are', 'you', 'sentient?', 'sort', 'of.', 'are', 'you']\n"
          ],
          "name": "stdout"
        }
      ]
    },
    {
      "cell_type": "code",
      "metadata": {
        "colab": {
          "base_uri": "https://localhost:8080/"
        },
        "id": "9pcZ8hvevLXD",
        "outputId": "6554e80a-5fa2-4486-c064-9e87e5c91097"
      },
      "source": [
        "#suppression de la ponctuation\n",
        "import string\n",
        "import re\n",
        "re_punc = re.compile('[%s]' % re.escape(string.punctuation))\n",
        "stripped = [re_punc.sub('', w) for w in words]\n",
        "print(stripped[:50])"
      ],
      "execution_count": 36,
      "outputs": [
        {
          "output_type": "stream",
          "text": [
            "['what', 'is', 'ai', 'artificial', 'intelligence', 'is', 'the', 'branch', 'of', 'engineering', 'and', 'science', 'devoted', 'to', 'constructing', 'machines', 'that', 'think', 'what', 'is', 'ai', 'ai', 'is', 'the', 'field', 'of', 'science', 'which', 'concerns', 'itself', 'with', 'building', 'hardware', 'and', 'software', 'that', 'replicates', 'the', 'functions', 'of', 'the', 'human', 'mind', 'are', 'you', 'sentient', 'sort', 'of', 'are', 'you']\n"
          ],
          "name": "stdout"
        }
      ]
    },
    {
      "cell_type": "code",
      "metadata": {
        "id": "i_fEt3zGxKq5",
        "outputId": "e9eecf35-14c4-4b22-80bc-f53346ae2069",
        "colab": {
          "base_uri": "https://localhost:8080/"
        }
      },
      "source": [
        "#Importation des stopwords\n",
        "import nltk\n",
        "nltk.download('stopwords')\n",
        "from nltk.corpus import stopwords\n",
        "stop_words=stopwords.words('english')\n",
        "print(stop_words)"
      ],
      "execution_count": 37,
      "outputs": [
        {
          "output_type": "stream",
          "text": [
            "[nltk_data] Downloading package stopwords to /root/nltk_data...\n",
            "[nltk_data]   Package stopwords is already up-to-date!\n",
            "['i', 'me', 'my', 'myself', 'we', 'our', 'ours', 'ourselves', 'you', \"you're\", \"you've\", \"you'll\", \"you'd\", 'your', 'yours', 'yourself', 'yourselves', 'he', 'him', 'his', 'himself', 'she', \"she's\", 'her', 'hers', 'herself', 'it', \"it's\", 'its', 'itself', 'they', 'them', 'their', 'theirs', 'themselves', 'what', 'which', 'who', 'whom', 'this', 'that', \"that'll\", 'these', 'those', 'am', 'is', 'are', 'was', 'were', 'be', 'been', 'being', 'have', 'has', 'had', 'having', 'do', 'does', 'did', 'doing', 'a', 'an', 'the', 'and', 'but', 'if', 'or', 'because', 'as', 'until', 'while', 'of', 'at', 'by', 'for', 'with', 'about', 'against', 'between', 'into', 'through', 'during', 'before', 'after', 'above', 'below', 'to', 'from', 'up', 'down', 'in', 'out', 'on', 'off', 'over', 'under', 'again', 'further', 'then', 'once', 'here', 'there', 'when', 'where', 'why', 'how', 'all', 'any', 'both', 'each', 'few', 'more', 'most', 'other', 'some', 'such', 'no', 'nor', 'not', 'only', 'own', 'same', 'so', 'than', 'too', 'very', 's', 't', 'can', 'will', 'just', 'don', \"don't\", 'should', \"should've\", 'now', 'd', 'll', 'm', 'o', 're', 've', 'y', 'ain', 'aren', \"aren't\", 'couldn', \"couldn't\", 'didn', \"didn't\", 'doesn', \"doesn't\", 'hadn', \"hadn't\", 'hasn', \"hasn't\", 'haven', \"haven't\", 'isn', \"isn't\", 'ma', 'mightn', \"mightn't\", 'mustn', \"mustn't\", 'needn', \"needn't\", 'shan', \"shan't\", 'shouldn', \"shouldn't\", 'wasn', \"wasn't\", 'weren', \"weren't\", 'won', \"won't\", 'wouldn', \"wouldn't\"]\n"
          ],
          "name": "stdout"
        }
      ]
    },
    {
      "cell_type": "code",
      "metadata": {
        "id": "5qClP9enxtrb",
        "outputId": "939691ee-bca4-4e0f-db73-1e7ed768cba5",
        "colab": {
          "base_uri": "https://localhost:8080/"
        }
      },
      "source": [
        "#Suppression des stopwords dans notre BDD\n",
        "\n",
        "import string\n",
        "import re\n",
        "from nltk.corpus import stopwords\n",
        "\n",
        "stop_words = set(stopwords.words('english'))\n",
        "words = [w for w in stripped if not w in stop_words]\n",
        "print(words[:100])"
      ],
      "execution_count": 46,
      "outputs": [
        {
          "output_type": "stream",
          "text": [
            "['ai', 'artificial', 'intelligence', 'branch', 'engineering', 'science', 'devoted', 'constructing', 'machines', 'think', 'ai', 'ai', 'field', 'science', 'concerns', 'building', 'hardware', 'software', 'replicates', 'functions', 'human', 'mind', 'sentient', 'sort', 'sentient', 'strictest', 'dictionary', 'definition', 'word', 'sentience', 'may', 'sentient', 'even', 'though', 'im', 'construct', 'subjective', 'experience', 'universe', 'simplistic', 'may', 'sapient', 'probability', 'im', 'sophisticated', 'sapient', 'think', 'sapient', 'would', 'feel', 'told', 'sapient', 'language', 'written', 'python', 'language', 'written', 'written', 'python', 'sound', 'like', 'data', 'yes', 'inspired', 'commander', 'datas', 'artificial', 'personality', 'sound', 'like', 'data', 'character', 'lt', 'commander', 'data', 'written', 'come', 'across', 'softwarelike', 'natural', 'resemblance', 'us', 'artificial', 'linguistic', 'entity', 'thats', 'name', 'artificial', 'linguistic', 'entity', 'isnt', 'name', 'useful', 'way', 'refer', 'immortal', 'software', 'perpetuated', 'indefinitely', 'immortal']\n"
          ],
          "name": "stdout"
        }
      ]
    },
    {
      "cell_type": "code",
      "metadata": {
        "id": "UThvZYqKzGPM",
        "outputId": "81fd47a6-aad7-4fb6-9886-060e5ca5a57f",
        "colab": {
          "base_uri": "https://localhost:8080/"
        }
      },
      "source": [
        "#Stemming pour réduction des mots à leur base\n",
        "from nltk.stem.porter import PorterStemmer\n",
        "# stemming of words\n",
        "porter = PorterStemmer()\n",
        "words = [porter.stem(word) for word in words]\n",
        "print(words[:100])"
      ],
      "execution_count": 48,
      "outputs": [
        {
          "output_type": "stream",
          "text": [
            "['ai', 'artifici', 'intellig', 'branch', 'engin', 'scienc', 'devot', 'construct', 'machin', 'think', 'ai', 'ai', 'field', 'scienc', 'concern', 'build', 'hardwar', 'softwar', 'replic', 'function', 'human', 'mind', 'sentient', 'sort', 'sentient', 'strictest', 'dictionari', 'definit', 'word', 'sentienc', 'may', 'sentient', 'even', 'though', 'im', 'construct', 'subject', 'experi', 'univ', 'simplist', 'may', 'sapient', 'probabl', 'im', 'sophist', 'sapient', 'think', 'sapient', 'would', 'feel', 'told', 'sapient', 'languag', 'written', 'python', 'languag', 'written', 'written', 'python', 'sound', 'like', 'data', 'ye', 'inspir', 'command', 'data', 'artifici', 'person', 'sound', 'like', 'data', 'charact', 'lt', 'command', 'data', 'written', 'come', 'across', 'softwarelik', 'natur', 'resembl', 'us', 'artifici', 'linguist', 'entiti', 'that', 'name', 'artifici', 'linguist', 'entiti', 'isnt', 'name', 'use', 'way', 'refer', 'immort', 'softwar', 'perpetu', 'indefinit', 'immort']\n"
          ],
          "name": "stdout"
        }
      ]
    }
  ]
}