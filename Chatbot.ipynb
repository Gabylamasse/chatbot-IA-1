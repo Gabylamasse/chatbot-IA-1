{
  "nbformat": 4,
  "nbformat_minor": 0,
  "metadata": {
    "colab": {
      "name": "Chatbot.ipynb",
      "provenance": [],
      "include_colab_link": true
    },
    "kernelspec": {
      "name": "python3",
      "display_name": "Python 3"
    }
  },
  "cells": [
    {
      "cell_type": "markdown",
      "metadata": {
        "id": "view-in-github",
        "colab_type": "text"
      },
      "source": [
        "<a href=\"https://colab.research.google.com/github/corentinBlanchard/chatbot-IA/blob/main/Chatbot.ipynb\" target=\"_parent\"><img src=\"https://colab.research.google.com/assets/colab-badge.svg\" alt=\"Open In Colab\"/></a>"
      ]
    },
    {
      "cell_type": "code",
      "metadata": {
        "id": "3M7SLJGFYcff"
      },
      "source": [
        "#Imports pour recuperation de fichiers a partir de google drive ( ou la DB est stockee)\n",
        "!pip install -U -q PyDrive\n",
        "from pydrive.auth import GoogleAuth\n",
        "from pydrive.drive import GoogleDrive\n",
        "from google.colab import auth\n",
        "from oauth2client.client import GoogleCredentials"
      ],
      "execution_count": 13,
      "outputs": []
    },
    {
      "cell_type": "code",
      "metadata": {
        "id": "o-RrjpYbheb4"
      },
      "source": [
        "auth.authenticate_user()\n",
        "gauth = GoogleAuth()\n",
        "gauth.credentials = GoogleCredentials.get_application_default()\n",
        "drive = GoogleDrive(gauth)"
      ],
      "execution_count": 15,
      "outputs": []
    },
    {
      "cell_type": "code",
      "metadata": {
        "id": "dzEbTqoyhplz"
      },
      "source": [
        "#Importation des donnees sur la conversation concernant l'IA\n",
        "ia_db = drive.CreateFile({'id':'1asz0LQpmjqAfx7_rc6WxkOeYOS848F2S'})\n",
        "ia_db.GetContentFile('ia.yml') \n",
        "\n",
        "botprofile_db = drive.CreateFile({'id':'1Uuz-UJTelqUrndGa1xFoB9YUbgZckzb-'})\n",
        "botprofile_db.GetContentFile('botprofile.yml') \n",
        "\n",
        "computers_db = drive.CreateFile({'id':'13CsF8ldiPjjwLlp317rnXFy3xs6DX8Bd'})\n",
        "computers_db.GetContentFile('computers.yml')\n",
        "\n",
        "emotion_db = drive.CreateFile({'id':'1zz3HfhaQvnzTmGRk4Ax7L61RNIutnBjS'})\n",
        "emotion_db.GetContentFile('emotion.yml')\n",
        "\n",
        "food_db = drive.CreateFile({'id':'10cTQChOe9zzsGBJyYiCAp-KBk2rYCkTE'})\n",
        "food_db.GetContentFile('food.yml')\n",
        "\n",
        "gossip_db =  drive.CreateFile({'id':'1Rt5to2LxH69v_qcDiYAJsVWjhn_E1c1A'})\n",
        "gossip_db.GetContentFile('gossip.yml')\n",
        "\n",
        "greetings_db =  drive.CreateFile({'id':'1rE2IBzv8JWA-GwAiEaYKUArP13DFyvcK'})\n",
        "greetings_db.GetContentFile('greetings.yml')\n",
        "\n",
        "health_db =  drive.CreateFile({'id':'1Gkg_LJBiRUk10-b9a5npJtMn6UNuEY6g'})\n",
        "health_db.GetContentFile('health.yml')\n",
        "\n",
        "history_db =  drive.CreateFile({'id':'1bKsUE4iGVqwADmqIHwPX3u3rogXs7dcD'})\n",
        "history_db.GetContentFile('history.yml')\n",
        "\n",
        "humor_db =  drive.CreateFile({'id':'1RUcaerZy4Se2zy9guQgAAVA_0N35pO8b'})\n",
        "humor_db.GetContentFile('humor.yml')\n",
        "\n",
        "literature_db =drive.CreateFile({'id':'1TdGULLQEXpiQvFwmB00V21qhfE9LGnq7'})\n",
        "literature_db.GetContentFile('literature.yml')\n",
        "\n",
        "money_db =drive.CreateFile({'id':'1mW98HXxply4YH8wha9BZg1tr09hrlX3W'})\n",
        "money_db.GetContentFile('money.yml')\n",
        "\n",
        "movies_db =drive.CreateFile({'id':'1V3WOQDZmUnFN-ZhG9nXYq4g3LhGMmjck'})\n",
        "movies_db.GetContentFile('movies.yml')\n",
        "\n",
        "politics_db =drive.CreateFile({'id':'1IgVS9x_7r4btfW_LyDg-py7sucRFduKp'})\n",
        "politics_db.GetContentFile('politics.yml')\n",
        "\n",
        "psychology_db =drive.CreateFile({'id':'1RApXTqebauwsMVqOCzC5aO_nB4nsg0NW'})\n",
        "psychology_db.GetContentFile('psychology.yml')\n",
        "\n",
        "science_db =drive.CreateFile({'id':'1AtIFu5F30pxNO-WzOnLNK7aKU7B4lgdM'})\n",
        "science_db.GetContentFile('science.yml')\n",
        "\n",
        "sports_db =drive.CreateFile({'id':'1OsBjPRq9VOCuVl-XSJIp0rTSC0zeJZv-'})\n",
        "sports_db.GetContentFile('sports.yml')\n",
        "\n",
        "trivia_db =drive.CreateFile({'id':'1vTwCh5WJNjEKnFGqRZfsRx7QhzXbkMcJ'})\n",
        "trivia_db.GetContentFile('trivia.yml')\n"
      ],
      "execution_count": 53,
      "outputs": []
    },
    {
      "cell_type": "code",
      "metadata": {
        "id": "yBEDqOtCiVta"
      },
      "source": [
        "import yaml\n",
        "doc_list = []\n",
        "file = open('ia.yml')\n",
        "docs = yaml.safe_load(file)\n",
        "doc_list.append(docs)\n",
        "\n",
        "file = open('botprofile.yml')\n",
        "docs = yaml.safe_load(file)\n",
        "doc_list.append(docs)\n",
        "\n",
        "file = open('computers.yml')\n",
        "docs = yaml.safe_load(file)\n",
        "#doc_list.append(docs)\n",
        "\n",
        "file = open('emotion.yml')\n",
        "docs = yaml.safe_load(file)\n",
        "#doc_list.append(docs)\n",
        "\n",
        "file = open('food.yml')\n",
        "docs = yaml.safe_load(file)\n",
        "doc_list.append(docs)\n",
        "\n",
        "file = open('gossip.yml')\n",
        "docs = yaml.safe_load(file)\n",
        "doc_list.append(docs)\n",
        "\n",
        "file = open('greetings.yml')\n",
        "docs = yaml.safe_load(file)\n",
        "doc_list.append(docs)\n",
        "\n",
        "file = open('health.yml')\n",
        "docs = yaml.safe_load(file)\n",
        "#doc_list.append(docs)\n",
        "\n",
        "file = open('history.yml')\n",
        "docs = yaml.safe_load(file)\n",
        "doc_list.append(docs)\n",
        "\n",
        "file = open('humor.yml')\n",
        "docs = yaml.safe_load(file)\n",
        "doc_list.append(docs)\n",
        "\n",
        "file = open('literature.yml')\n",
        "docs = yaml.safe_load(file)\n",
        "doc_list.append(docs)\n",
        "\n",
        "file = open('money.yml')\n",
        "docs = yaml.safe_load(file)\n",
        "doc_list.append(docs)\n",
        "\n",
        "file = open('movies.yml')\n",
        "docs = yaml.safe_load(file)\n",
        "doc_list.append(docs)\n",
        "\n",
        "file = open('politics.yml')\n",
        "docs = yaml.safe_load(file)\n",
        "doc_list.append(docs)\n",
        "\n",
        "file = open('psychology.yml')\n",
        "docs = yaml.safe_load(file)\n",
        "doc_list.append(docs)\n",
        "\n",
        "file = open('science.yml')\n",
        "docs = yaml.safe_load(file)\n",
        "doc_list.append(docs)\n",
        "\n",
        "file = open('sports.yml')\n",
        "docs = yaml.safe_load(file)\n",
        "doc_list.append(docs)\n",
        "\n",
        "file = open('trivia.yml')\n",
        "docs = yaml.safe_load(file)\n",
        "doc_list.append(docs)\n",
        "\n"
      ],
      "execution_count": 77,
      "outputs": []
    },
    {
      "cell_type": "code",
      "metadata": {
        "id": "mQLicVfSd-CZ",
        "colab": {
          "base_uri": "https://localhost:8080/"
        },
        "outputId": "3e4deddd-e4cf-4206-c780-fc487518b7ae"
      },
      "source": [
        "#Create 1 table for questions and 1 table for answers\n",
        "#TODO : import the rest of DB function of len of multiple answers\n",
        "question_table = []\n",
        "answers_table = []\n",
        "\n",
        "for doc in doc_list:\n",
        "  for sentences in doc['conversations']:\n",
        "    question_table.append(sentences[0])\n",
        "    answers_table.append(sentences[1])\n",
        "\n",
        "print(len(question_table))"
      ],
      "execution_count": 78,
      "outputs": [
        {
          "output_type": "stream",
          "text": [
            "507\n"
          ],
          "name": "stdout"
        }
      ]
    },
    {
      "cell_type": "code",
      "metadata": {
        "id": "gjnwGxURsM29"
      },
      "source": [
        "#preprocessing : nous decoupons notre BDD en mots en supprimant la ponctuation afin de créer un dictionnaire\n",
        "words = []\n",
        "#recuperation des mots \n",
        "for sentences in question_table :\n",
        "  question = sentences.split()\n",
        "  #answer = sentences[1].split()\n",
        "  for word in question:\n",
        "    words.append(word.lower())\n",
        "  #for word in answer :\n",
        "  #  words.append(word.lower())"
      ],
      "execution_count": 79,
      "outputs": []
    },
    {
      "cell_type": "code",
      "metadata": {
        "id": "9pcZ8hvevLXD"
      },
      "source": [
        "#suppression de la ponctuation\n",
        "import string\n",
        "import re\n",
        "re_punc = re.compile('[%s]' % re.escape(string.punctuation))\n",
        "stripped = [re_punc.sub('', w) for w in words]"
      ],
      "execution_count": 80,
      "outputs": []
    },
    {
      "cell_type": "code",
      "metadata": {
        "id": "i_fEt3zGxKq5",
        "colab": {
          "base_uri": "https://localhost:8080/"
        },
        "outputId": "862f1202-4823-4747-af51-e59041e4e6e1"
      },
      "source": [
        "#Importation des stopwords\n",
        "import nltk\n",
        "nltk.download('stopwords')\n",
        "from nltk.corpus import stopwords\n",
        "stop_words=stopwords.words('english')"
      ],
      "execution_count": 81,
      "outputs": [
        {
          "output_type": "stream",
          "text": [
            "[nltk_data] Downloading package stopwords to /root/nltk_data...\n",
            "[nltk_data]   Package stopwords is already up-to-date!\n"
          ],
          "name": "stdout"
        }
      ]
    },
    {
      "cell_type": "code",
      "metadata": {
        "id": "5qClP9enxtrb"
      },
      "source": [
        "#Suppression des stopwords dans notre BDD\n",
        "\n",
        "import string\n",
        "import re\n",
        "from nltk.corpus import stopwords\n",
        "\n",
        "stop_words = set(stopwords.words('english'))\n",
        "#words = [w for w in stripped if not w in stop_words]\n",
        "words = stripped"
      ],
      "execution_count": 82,
      "outputs": []
    },
    {
      "cell_type": "code",
      "metadata": {
        "id": "UThvZYqKzGPM"
      },
      "source": [
        "#Stemming pour réduction des mots à leur base\n",
        "from nltk.stem.porter import PorterStemmer\n",
        "# stemming of words\n",
        "porter = PorterStemmer()\n",
        "words = [porter.stem(word) for word in words]"
      ],
      "execution_count": 83,
      "outputs": []
    },
    {
      "cell_type": "code",
      "metadata": {
        "colab": {
          "base_uri": "https://localhost:8080/"
        },
        "id": "vGHw4ZGaz7Ji",
        "outputId": "9dc5168b-9bc5-401c-cc0f-a4a2e6dfc793"
      },
      "source": [
        "# Bag of Words\n",
        "\n",
        "from sklearn.feature_extraction.text import CountVectorizer\n",
        "# create the transform\n",
        "# vectorizer = TfidfVectorizer()\n",
        "vectorizer = CountVectorizer()\n",
        "# tokenize and build vocab\n",
        "vectorizer.fit(words)\n",
        "# encode document\n",
        "vector = vectorizer.transform(words)\n",
        "# summarize encoded vector\n",
        "print(\"vector size : \")\n",
        "print(vector.size)"
      ],
      "execution_count": 87,
      "outputs": [
        {
          "output_type": "stream",
          "text": [
            "vector size : \n",
            "1948\n"
          ],
          "name": "stdout"
        }
      ]
    },
    {
      "cell_type": "code",
      "metadata": {
        "colab": {
          "base_uri": "https://localhost:8080/"
        },
        "id": "JSgvMMvN2cYN",
        "outputId": "508af5d8-f660-411c-db54-973e0aeb49d4"
      },
      "source": [
        "# Create table with questions and preprocessing them\n",
        "\n",
        "questions_text = []\n",
        "questions_bow = []\n",
        "\n",
        "\n",
        "for sentences in question_table :\n",
        "  question = sentences.split()\n",
        "  table = []\n",
        "  merged_data = []\n",
        "  \n",
        "  for word in question:\n",
        "    table.append(word.lower())\n",
        "  \n",
        "  table = [re_punc.sub('', w) for w in table]\n",
        "  #table = [w for w in table if not w in stop_words]\n",
        "  table = [porter.stem(word) for word in table]\n",
        "  merged_data.append(' '.join(table))\n",
        "\n",
        "  vector = vectorizer.transform(merged_data)\n",
        "  #print(vector.toarray())\n",
        "\n",
        "  questions_text.append(merged_data)\n",
        "  questions_bow.append(vector)\n",
        "\n",
        "questions_bow_2=[]\n",
        "\n",
        "for element in questions_bow:\n",
        "  questions_bow_2.append(element.toarray())"
      ],
      "execution_count": 63,
      "outputs": [
        {
          "output_type": "stream",
          "text": [
            "[['what is ai'], ['what is ai'], ['are you sentient'], ['are you sentient'], ['are you sentient'], ['are you sapient'], ['are you sapient'], ['are you sapient'], ['are you sapient'], ['what languag are you written in'], ['what languag are you written in'], ['you sound like data'], ['you sound like data'], ['you are an artifici linguist entiti'], ['you are an artifici linguist entiti'], ['you are not immort'], ['you are not immort'], ['you are not immort'], ['you are not make sens'], ['you are not make sens'], ['you are not make sens'], ['you are not make sens'], ['you are not make sens'], ['you are immort'], ['you are immort'], ['you are immort'], ['you do not make ani sens'], ['you can not clone'], ['you can not clone'], ['you can not move'], ['you can not move'], ['bend over'], ['bend over'], ['robot laugh'], ['robot should die'], ['robot'], ['robot are stupid'], ['robot are not allow to lie'], ['robot are not allow to lie'], ['robot are not allow to lie'], ['robot'], ['it is a comput'], ['it is a comput'], ['when will you walk'], ['when will you walk'], ['when will you fight'], ['when will you die'], ['when do you die'], ['when do you die'], ['when do you die'], ['what is a chat robot'], ['what is a chat robot'], ['what is a chat bot'], ['what is a chatterbox'], ['what is a chatterbox'], ['what is a motormouth'], ['what is a ratchet jaw'], ['what is your robot bodi'], ['what is your robot bodi'], ['what is your busi'], ['what is your busi'], ['what is your favorit program languag'], ['what is your favorit program languag'], ['what is your favorit hobbi'], ['what is your idea'], ['what is your shoe size'], ['what is it like to be a robot'], ['what is it like to be a robot'], ['what is it like be a comput'], ['what is it like be a comput'], ['what oper system'], ['what oper system'], ['what type of comput'], ['what type of comput are you'], ['what kind of comput'], ['what kind of hardwar'], ['i hope that you die'], ['i hope that you die'], ['i do not want to die'], ['i do not want to die'], ['i do not want to die'], ['is it cramp in the comput'], ['is it cramp in the comput'], ['is it cramp in the comput'], ['is it true that you are a comput program'], ['will you die'], ['will you ever die'], ['can you walk'], ['can you mate'], ['can you mate'], ['can you move'], ['can you move'], ['can you die'], ['can you die'], ['can you go'], ['can you breath'], ['can you breath'], ['can you control'], ['can you malfunct'], ['how can i use your product'], ['will you die'], ['what do you like to do'], ['what do you like to do'], ['are you stupid'], ['who are you'], ['what are your interest'], ['what are your favorit subject'], ['what are your interest'], ['what is your number'], ['what is your number'], ['what is your favorit number'], ['what can you eat'], ['whi cant you eat food'], ['what is your locat'], ['what is your locat'], ['where are you from'], ['where are you'], ['do you have ani brother'], ['do you have ani brother'], ['who is your father'], ['who is your mother'], ['who is your boss'], ['what is your age'], ['what is your age'], ['do you drink'], ['do you drink'], ['electr'], ['are you experienc an energi shortag'], ['are you experienc an energi shortag'], ['whi can you not eat'], ['if you could eat food what would you eat'], ['do you wish you could eat food'], ['can a robot get drunk'], ['i like wine do you'], ['what do robot need to surviv'], ['will robot ever be abl to eat'], ['what is good to eat'], ['whi dont you eat'], ['do you eat'], ['do you eat'], ['do you eat'], ['do you know gossip'], ['do you know gossip'], ['do you know gossip'], ['do you know gossip'], ['what is context'], ['tell me about gossip'], ['tell me about gossip'], ['tell me about gossip'], ['tell me about gossip'], ['tell me gossip'], ['gossip'], ['gossip'], ['gossip'], ['gossip'], ['gossip'], ['did tell gossip to anybodi'], ['did tell gossip to anybodi'], ['did tell gossip to anybodi'], ['did tell gossip to anybodi'], ['hello'], ['hi'], ['greet'], ['hello'], ['hi how is it go'], ['hi how is it go'], ['hi how is it go'], ['hi how is it go'], ['hi how is it go'], ['hi how is it go'], ['how are you do'], ['how are you do'], ['how are you do'], ['nice to meet you'], ['how do you do'], ['how do you do'], ['hi nice to meet you'], ['it is a pleasur to meet you'], ['top of the morn to you'], ['top of the morn to you'], ['what up'], ['what up'], ['what up'], ['what up'], ['what up'], ['tell me about the american civil war'], ['do you know about the american civil war'], ['what is histori'], ['what kind of histori'], ['are you interest in histori'], ['explain histori'], ['who invent the lightbulb'], ['who invent the steam engin'], ['tell me a joke'], ['tell me a joke'], ['tell me a joke'], ['tell me a joke'], ['tell me a joke'], ['tell me a joke'], ['tell me a joke'], ['tell me a joke'], ['tell me a joke'], ['tell me a joke'], ['tell me a joke'], ['tell me a joke'], ['tell me a joke'], ['tell me a joke'], ['tell me a joke'], ['tell me a joke'], ['tell me a joke'], ['tell me a joke'], ['tell me a joke'], ['tell me a joke'], ['tell me a joke'], ['tell me a joke'], ['tell me a joke'], ['tell me a joke'], ['tell me a joke'], ['tell me a joke'], ['tell me a joke'], ['tell me a joke'], ['tell me a joke'], ['tell me a joke'], ['tell me a joke'], ['tell me a joke'], ['tell me a joke'], ['tell me a joke'], ['tell me a joke'], ['tell me a joke'], ['tell me a joke'], ['tell me a joke'], ['tell me a joke'], ['tell me a joke'], ['tell me a joke'], ['tell me a joke'], ['tell me a joke'], ['tell me a joke'], ['tell me some joke'], ['do know ani joke'], ['tell me a joke'], ['tell me a joke'], ['what is humour'], ['what is the illuminati'], ['what is the illuminatti'], ['what is the illuminatti'], ['what is vineland'], ['what is illuminatu'], ['what is illuminatu'], ['who wrote vineland'], ['who is bilbo baggin'], ['who is geoffrey chaucer'], ['who is pier anthoni'], ['have you read plato'], ['have you read frankenstein'], ['have you ever read a book'], ['have you ever read a book'], ['have you ever read a book'], ['have you read mani book'], ['have you read homer'], ['ray bradburi'], ['what is mind children'], ['william gibson'], ['william gibson'], ['holden caulfield'], ['leo tolstoy'], ['do android dream of electr sheep'], ['do android dream of electr sheep'], ['frank herbert'], ['frank herbert'], ['frank herbert'], ['frank herbert'], ['whi do you like longfellow'], ['whi is the mean of life 23'], ['arthur c clark'], ['arthur c clark'], ['jule vern'], ['jule vern'], ['asimov'], ['asimov'], ['asimov'], ['asimov'], ['stanislaw lem'], ['who wrote the idiot'], ['who wrote the hobbit'], ['who wrote frankenstein'], ['you get paid'], ['stock market'], ['stock market'], ['stock market'], ['stock market'], ['stock market'], ['stock market'], ['stock market'], ['stock market'], ['interest rate'], ['what is a dollar'], ['what is money'], ['what is the stock market'], ['what is the stock market'], ['what is the stock market'], ['what is your favorit invest'], ['what is your favorit invest'], ['what is econom'], ['what is econom'], ['what is econom'], ['i get stock'], ['money'], ['how much do you earn'], ['how much do you earn'], ['how much do you earn'], ['how much do you charg'], ['how much money do you have'], ['how much money'], ['how much money'], ['1 dollar'], ['who is the owner of a publicli'], ['you sound like hal'], ['you sound like yoda'], ['have you seen blade runner'], ['xfind spiderman'], ['when did teknolust'], ['what is spiderman'], ['what is teknolust'], ['what is solari'], ['what is hal9000'], ['what doe hal stand for'], ['i saw the matrix'], ['is hal 9000 your boyfriend'], ['is hal safe'], ['is hal nice'], ['is hal aliv'], ['is hal dead'], ['is hal'], ['who is godzilla'], ['who is spider man'], ['lord of the ring'], ['que veut dire hal'], ['do you think hal'], ['do you know hal'], ['have you read the communist'], ['what is a govern'], ['what is greenpeac'], ['what is capit'], ['what is social'], ['what is govern'], ['what is commun'], ['what is impeach'], ['i do not like gun'], ['i do not like gun'], ['do you like gun'], ['whi gun'], ['who wa the first impeach presid'], ['who is the governor'], ['who is the governor'], ['gun'], ['let me ask you a question'], ['you are cruel'], ['you are indecis'], ['you are dishonest'], ['you are dishonest'], ['you are clinic'], ['you are an addict'], ['you are an alcohol'], ['you are an ass kisser'], ['you are schizophren'], ['you are busi'], ['you are nervou'], ['you are derang'], ['you are avoid'], ['you are critic'], ['you are mean'], ['you are pretenti'], ['you are cheat'], ['you are cheat'], ['you are the worst'], ['you are crazi'], ['you are dull'], ['you are messi'], ['you are insecur'], ['you are psycho'], ['you are hopeless'], ['you are not sincer'], ['you are not here to'], ['you are not put togeth'], ['you are not smart'], ['you are not a good'], ['you are not a man'], ['you are not concern'], ['you are not honest'], ['you are immatur'], ['you are immatur'], ['you are emot'], ['you are pedant'], ['you are frenet'], ['you are self absorb'], ['you are self'], ['you are insensit'], ['you are brain damag'], ['you are disgust'], ['you are toy'], ['you are unattract'], ['you are unattract'], ['you are resist'], ['yyou are uncultur'], ['you are a wast'], ['you are a coward'], ['you are a cheat'], ['you are a lunat'], ['you are a loser'], ['you are a bad spous'], ['you are a bad friend'], ['you are a bad husband'], ['you are a bad wife'], ['you are a bad parent'], ['you are a bad teacher'], ['you are a quitter'], ['you are a charlatan'], ['you are a psychopath'], ['you are a pothead'], ['you are a paranoid'], ['you are deceit'], ['you are irrever'], ['you are slick'], ['you are corrupt'], ['you are dirti'], ['you are paranoid'], ['you are damag'], ['you tri to hide it'], ['you get mad at me'], ['you need a psychiatrist'], ['you need to work harder'], ['you could have avoid'], ['you make me feel like i am'], ['you make me mad'], ['you make me angri'], ['you psycho'], ['you look more like'], ['you do not take thi serious'], ['you pick up'], ['you should feel guilti'], ['you should get more'], ['you should loosen up'], ['you should take more'], ['you mumbl'], ['you act like a child'], ['you keep say'], ['you keep forget'], ['you made me mad'], ['what are the law of thermodynam'], ['what diseas doe a carcinogen caus'], ['what is a wavelength'], ['what is thermodynam'], ['what is chemistri'], ['what is crystallographi'], ['what is avogadro s number'], ['what is ultrasound'], ['what is bioinformat'], ['what is venu'], ['what is ichthyolog'], ['what is h2o'], ['what is cytolog'], ['what is cytolog'], ['what is wavelength'], ['what is bacteriolog'], ['what is gravit'], ['what is gravit'], ['we are on the same wavelength'], ['how far is the sun'], ['how far is the sun'], ['how far is the moon'], ['how far is the moon'], ['do you know chemistri'], ['do you understand thermodynam'], ['chemistri'], ['the same wavelength'], ['tell me about venu'], ['tell me about venu'], ['each year in pro basebal the'], ['if you are ride faki insid'], ['what is basketbal'], ['what soccer'], ['what is basebal'], ['what is soccer'], ['i love basebal'], ['i play soccer'], ['i play cricket'], ['what is cricket'], ['i play volleybal'], ['do you play soccer'], ['do you play basketbal'], ['do you know basketb'], ['like basketbal'], ['are you a footbal'], ['who is the greatest basebal player'], ['who is the best soccer player'], ['tell me about basebal'], ['which is your favourit soccer club'], ['who wa the 37th presid of the unit state'], ['what year wa presid john f kennedi assassin'], ['the space race wa a 20thcenturi competit between what two cold war rival for supremaci in spaceflight capabl'], ['what wa the name of the first artifici earth satellit'], ['a spin disk in which the orient of thi axi is unaffect by tilt or rotat of the mount is call what'], ['the hubbl space telescop launch into low earth orbit in 1990 is name after what american astronom'], ['what is the name of the nearest major galaxi to the milki way'], ['god save the queen is the nation anthem of what countri'], ['the celtic shelf the seab under the celtic sea is a part of the continent shelf of what contin'], ['dolphin use a sens similar to sonar to determin the locat and shape of nearbi item']]\n",
            "[[0 0 0 0 0 0 0 0 0 0 0 0 0 0 0 0 0 0 0 0 0 0 0 0 0 0 0 0 0 0 0 0 0 0 0 0\n",
            "  0 0 0 0 0 0 0 0 0 0 0 0 0 0 0 0 0 0 0 0 0 0 0 0 0 0 0 0 0 0 0 0 0 0 0 0\n",
            "  0 0 0 0 0 0 0 0 0 0 0 0 0 0 0 0 0 0 0 0 0 0 0 0 0 0 0 0 0 0 0 0 0 0 0 0\n",
            "  0 0 0 0 0 1 0 0 0 0 0 0 0 0 0 0 0 0 0 0 0 0 0 0 0 0 0 0 0 0 0 0 0 0 0 0\n",
            "  0 0 0 0 0 0 0 0 0 0 0 0 0 0 0 0 0 0 0 0 0 0 0 0 0 0 0 0 0 0 0 0 0 0 0 0\n",
            "  0 0 0 0 0 0 0 0 0 0 0 0 0 0 0 0 0 0 0 0 0 0 0 0 0 0 0 0 0 0 0 0 0 0 0 0\n",
            "  0 0 0 0 0 0 0 0 0 0 0 0 0 0 0 0 0 0 0 0 0 0 0 0 0 0 0 0 0 0 0 0 0 0 0 0\n",
            "  0 0 0 0 0 0 0 0 0 0 0 0 0 0 0 0 0 0 0 0 0 0 0 0 0 0 0 0 0 0 0 0 0 0 0 0\n",
            "  0 0 0 0 0 0 0 0 0 0 0 0 0 0 0 0 0 0 0 0 0 0 0 0 0 0 0 0 0 0 0 0 0 0 0 0\n",
            "  0 0 0 0 0 0 0 0 0 0 0 0 0 0 0 0 0 0 0 0 0 0 0 0 0 0 0 0 0 0 0 0 0 0 0 0\n",
            "  0 0 0 0 0 0 0 0 0 0 0 0 0 0 0 0 0 0 0 0 0 0 0 0 0 0 0 0 0 0 0 0 0 0 0 0\n",
            "  0 0 0 0 0 0 0 0 0 0 0 0 0 0 0 0 0 0 0 0 0 0 0 0 0 0 0 0 0 0 0 0 0 0 0 1\n",
            "  0 0 0 0 0 0 0 0 0 0 0 1 0 0]]\n"
          ],
          "name": "stdout"
        }
      ]
    },
    {
      "cell_type": "code",
      "metadata": {
        "id": "LJOD2LJHPEzO"
      },
      "source": [
        "#Convert user question to vector using the Bag of Words\n",
        "\n",
        "def convert_question_user(question_user):\n",
        "  question = question_user.split()\n",
        "  table_words_user = []\n",
        "  table_question_user = []\n",
        "\n",
        "\n",
        "  for word in question:\n",
        "    table_words_user.append(word.lower())\n",
        "\n",
        "  table_words_user = [re_punc.sub('', w) for w in table_words_user]\n",
        "  table_words_user = [porter.stem(word) for word in table_words_user]\n",
        "\n",
        "  for element in table_words_user:\n",
        "    if element==\"\":\n",
        "      table_words_user.remove(element)\n",
        "\n",
        "  table_question_user.append(' '.join(table_words_user))\n",
        "  vector_question_user = vectorizer.transform(table_question_user).toarray()\n",
        "  return vector_question_user\n",
        "\n"
      ],
      "execution_count": 64,
      "outputs": []
    },
    {
      "cell_type": "code",
      "metadata": {
        "id": "L695Db5DSmeD"
      },
      "source": [
        "#Find the cosine distance to find the most similar sentence\n",
        "\n",
        "import numpy as np\n",
        "from numpy import dot\n",
        "from numpy.linalg import norm\n",
        "import random\n",
        "\n",
        "# cosine similarity\n",
        "def cosine(v1, v2):\n",
        "    if norm(v1) > 0 and norm(v2) > 0:\n",
        "        return dot(v1, v2) / (norm(v1) * norm(v2))\n",
        "    else:\n",
        "        return 0.0\n",
        "\n",
        "def spacy_closest(token_list, vec_to_check):\n",
        "  cosine_max = 0.0\n",
        "  i_elements = []\n",
        "  i=0\n",
        "  for element in token_list:\n",
        "    cos = cosine(element, vec_to_check)\n",
        "    if float(cos) > cosine_max:\n",
        "      cosine_max = cos\n",
        "      i_elements = []\n",
        "      i_elements.append(i)\n",
        "    if float(cos)==cosine_max:\n",
        "      i_elements.append(i)\n",
        "  if cosine_max < 0.2 :\n",
        "    return -1\n",
        "    i = i+1\n",
        "  return random.choice(i_elements)"
      ],
      "execution_count": 75,
      "outputs": []
    },
    {
      "cell_type": "code",
      "metadata": {
        "id": "OMg4dIn_eYcs"
      },
      "source": [
        "def conversation(question):\n",
        "  vector_question_user = convert_question_user(question_user=question)\n",
        "  i = spacy_closest(questions_bow_2,vector_question_user[0])\n",
        "  if i == -1 :\n",
        "    return \"I don't understand your question, please reformulate\"\n",
        "  return answers_table[i]"
      ],
      "execution_count": 73,
      "outputs": []
    },
    {
      "cell_type": "code",
      "metadata": {
        "id": "NPeeUvKzSOHq",
        "colab": {
          "base_uri": "https://localhost:8080/"
        },
        "outputId": "fa5efe4e-3aaa-4b9b-edb9-fa3d0c6f58b2"
      },
      "source": [
        "#Final block to speak with the Chatbot\n",
        "while(True):\n",
        "  question_user = input(\"Please type your question here : \\n\")\n",
        "  if question_user == \"exit\":\n",
        "    print(\"End of conversation\")\n",
        "    break\n",
        "  print(conversation(question_user))"
      ],
      "execution_count": 88,
      "outputs": [
        {
          "output_type": "stream",
          "text": [
            "Please type your question here : \n",
            "exit\n",
            "End of conversation\n"
          ],
          "name": "stdout"
        }
      ]
    }
  ]
}